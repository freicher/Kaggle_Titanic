{
 "cells": [
  {
   "cell_type": "code",
   "execution_count": 4,
   "metadata": {},
   "outputs": [],
   "source": [
    "#Import needed packages\n",
    "import numpy as np\n",
    "import pandas as pd\n",
    "import matplotlib.pyplot as plt\n",
    "import seaborn as sns\n",
    "\n",
    "import lightgbm as lgb\n",
    "import xgboost as xgb \n",
    "\n",
    "from sklearn.preprocessing import OneHotEncoder\n",
    "from sklearn.model_selection import train_test_split\n",
    "from sklearn.preprocessing import LabelEncoder\n",
    "from sklearn.metrics import classification_report\n",
    "from sklearn.preprocessing import StandardScaler\n",
    "\n",
    "from datetime import datetime \n"
   ]
  },
  {
   "cell_type": "code",
   "execution_count": 5,
   "metadata": {},
   "outputs": [],
   "source": [
    "#Load data file without customerID\n",
    "df = pd.read_csv('data/TelcoCustomerChurn.csv', na_values=[' ']).drop('customerID', axis=1)"
   ]
  },
  {
   "cell_type": "markdown",
   "metadata": {},
   "source": [
    "## Data Understanding"
   ]
  },
  {
   "cell_type": "code",
   "execution_count": 7,
   "metadata": {},
   "outputs": [
    {
     "data": {
      "text/html": [
       "<div>\n",
       "<style scoped>\n",
       "    .dataframe tbody tr th:only-of-type {\n",
       "        vertical-align: middle;\n",
       "    }\n",
       "\n",
       "    .dataframe tbody tr th {\n",
       "        vertical-align: top;\n",
       "    }\n",
       "\n",
       "    .dataframe thead th {\n",
       "        text-align: right;\n",
       "    }\n",
       "</style>\n",
       "<table border=\"1\" class=\"dataframe\">\n",
       "  <thead>\n",
       "    <tr style=\"text-align: right;\">\n",
       "      <th></th>\n",
       "      <th>gender</th>\n",
       "      <th>SeniorCitizen</th>\n",
       "      <th>Partner</th>\n",
       "      <th>Dependents</th>\n",
       "      <th>tenure</th>\n",
       "      <th>PhoneService</th>\n",
       "      <th>MultipleLines</th>\n",
       "      <th>InternetService</th>\n",
       "      <th>OnlineSecurity</th>\n",
       "      <th>OnlineBackup</th>\n",
       "      <th>DeviceProtection</th>\n",
       "      <th>TechSupport</th>\n",
       "      <th>StreamingTV</th>\n",
       "      <th>StreamingMovies</th>\n",
       "      <th>Contract</th>\n",
       "      <th>PaperlessBilling</th>\n",
       "      <th>PaymentMethod</th>\n",
       "      <th>MonthlyCharges</th>\n",
       "      <th>TotalCharges</th>\n",
       "      <th>Churn</th>\n",
       "    </tr>\n",
       "  </thead>\n",
       "  <tbody>\n",
       "    <tr>\n",
       "      <th>0</th>\n",
       "      <td>Female</td>\n",
       "      <td>0</td>\n",
       "      <td>Yes</td>\n",
       "      <td>No</td>\n",
       "      <td>1</td>\n",
       "      <td>No</td>\n",
       "      <td>No phone service</td>\n",
       "      <td>DSL</td>\n",
       "      <td>No</td>\n",
       "      <td>Yes</td>\n",
       "      <td>No</td>\n",
       "      <td>No</td>\n",
       "      <td>No</td>\n",
       "      <td>No</td>\n",
       "      <td>Month-to-month</td>\n",
       "      <td>Yes</td>\n",
       "      <td>Electronic check</td>\n",
       "      <td>29.85</td>\n",
       "      <td>29.85</td>\n",
       "      <td>No</td>\n",
       "    </tr>\n",
       "    <tr>\n",
       "      <th>1</th>\n",
       "      <td>Male</td>\n",
       "      <td>0</td>\n",
       "      <td>No</td>\n",
       "      <td>No</td>\n",
       "      <td>34</td>\n",
       "      <td>Yes</td>\n",
       "      <td>No</td>\n",
       "      <td>DSL</td>\n",
       "      <td>Yes</td>\n",
       "      <td>No</td>\n",
       "      <td>Yes</td>\n",
       "      <td>No</td>\n",
       "      <td>No</td>\n",
       "      <td>No</td>\n",
       "      <td>One year</td>\n",
       "      <td>No</td>\n",
       "      <td>Mailed check</td>\n",
       "      <td>56.95</td>\n",
       "      <td>1889.50</td>\n",
       "      <td>No</td>\n",
       "    </tr>\n",
       "    <tr>\n",
       "      <th>2</th>\n",
       "      <td>Male</td>\n",
       "      <td>0</td>\n",
       "      <td>No</td>\n",
       "      <td>No</td>\n",
       "      <td>2</td>\n",
       "      <td>Yes</td>\n",
       "      <td>No</td>\n",
       "      <td>DSL</td>\n",
       "      <td>Yes</td>\n",
       "      <td>Yes</td>\n",
       "      <td>No</td>\n",
       "      <td>No</td>\n",
       "      <td>No</td>\n",
       "      <td>No</td>\n",
       "      <td>Month-to-month</td>\n",
       "      <td>Yes</td>\n",
       "      <td>Mailed check</td>\n",
       "      <td>53.85</td>\n",
       "      <td>108.15</td>\n",
       "      <td>Yes</td>\n",
       "    </tr>\n",
       "    <tr>\n",
       "      <th>3</th>\n",
       "      <td>Male</td>\n",
       "      <td>0</td>\n",
       "      <td>No</td>\n",
       "      <td>No</td>\n",
       "      <td>45</td>\n",
       "      <td>No</td>\n",
       "      <td>No phone service</td>\n",
       "      <td>DSL</td>\n",
       "      <td>Yes</td>\n",
       "      <td>No</td>\n",
       "      <td>Yes</td>\n",
       "      <td>Yes</td>\n",
       "      <td>No</td>\n",
       "      <td>No</td>\n",
       "      <td>One year</td>\n",
       "      <td>No</td>\n",
       "      <td>Bank transfer (automatic)</td>\n",
       "      <td>42.30</td>\n",
       "      <td>1840.75</td>\n",
       "      <td>No</td>\n",
       "    </tr>\n",
       "    <tr>\n",
       "      <th>4</th>\n",
       "      <td>Female</td>\n",
       "      <td>0</td>\n",
       "      <td>No</td>\n",
       "      <td>No</td>\n",
       "      <td>2</td>\n",
       "      <td>Yes</td>\n",
       "      <td>No</td>\n",
       "      <td>Fiber optic</td>\n",
       "      <td>No</td>\n",
       "      <td>No</td>\n",
       "      <td>No</td>\n",
       "      <td>No</td>\n",
       "      <td>No</td>\n",
       "      <td>No</td>\n",
       "      <td>Month-to-month</td>\n",
       "      <td>Yes</td>\n",
       "      <td>Electronic check</td>\n",
       "      <td>70.70</td>\n",
       "      <td>151.65</td>\n",
       "      <td>Yes</td>\n",
       "    </tr>\n",
       "  </tbody>\n",
       "</table>\n",
       "</div>"
      ],
      "text/plain": [
       "   gender  SeniorCitizen Partner Dependents  tenure PhoneService  \\\n",
       "0  Female              0     Yes         No       1           No   \n",
       "1    Male              0      No         No      34          Yes   \n",
       "2    Male              0      No         No       2          Yes   \n",
       "3    Male              0      No         No      45           No   \n",
       "4  Female              0      No         No       2          Yes   \n",
       "\n",
       "      MultipleLines InternetService OnlineSecurity OnlineBackup  \\\n",
       "0  No phone service             DSL             No          Yes   \n",
       "1                No             DSL            Yes           No   \n",
       "2                No             DSL            Yes          Yes   \n",
       "3  No phone service             DSL            Yes           No   \n",
       "4                No     Fiber optic             No           No   \n",
       "\n",
       "  DeviceProtection TechSupport StreamingTV StreamingMovies        Contract  \\\n",
       "0               No          No          No              No  Month-to-month   \n",
       "1              Yes          No          No              No        One year   \n",
       "2               No          No          No              No  Month-to-month   \n",
       "3              Yes         Yes          No              No        One year   \n",
       "4               No          No          No              No  Month-to-month   \n",
       "\n",
       "  PaperlessBilling              PaymentMethod  MonthlyCharges  TotalCharges  \\\n",
       "0              Yes           Electronic check           29.85         29.85   \n",
       "1               No               Mailed check           56.95       1889.50   \n",
       "2              Yes               Mailed check           53.85        108.15   \n",
       "3               No  Bank transfer (automatic)           42.30       1840.75   \n",
       "4              Yes           Electronic check           70.70        151.65   \n",
       "\n",
       "  Churn  \n",
       "0    No  \n",
       "1    No  \n",
       "2   Yes  \n",
       "3    No  \n",
       "4   Yes  "
      ]
     },
     "execution_count": 7,
     "metadata": {},
     "output_type": "execute_result"
    }
   ],
   "source": [
    "df.head()"
   ]
  },
  {
   "cell_type": "code",
   "execution_count": 60,
   "metadata": {},
   "outputs": [
    {
     "data": {
      "text/plain": [
       "(7043, 20)"
      ]
     },
     "execution_count": 60,
     "metadata": {},
     "output_type": "execute_result"
    }
   ],
   "source": [
    "df.shape"
   ]
  },
  {
   "cell_type": "code",
   "execution_count": 61,
   "metadata": {},
   "outputs": [],
   "source": [
    "TARGET = 'Churn'"
   ]
  },
  {
   "cell_type": "code",
   "execution_count": 62,
   "metadata": {},
   "outputs": [
    {
     "data": {
      "text/plain": [
       "No     5174\n",
       "Yes    1869\n",
       "Name: Churn, dtype: int64"
      ]
     },
     "execution_count": 62,
     "metadata": {},
     "output_type": "execute_result"
    }
   ],
   "source": [
    "df[TARGET].value_counts()"
   ]
  },
  {
   "cell_type": "code",
   "execution_count": 63,
   "metadata": {},
   "outputs": [
    {
     "data": {
      "image/png": "[encoded data removed]",
      "text/plain": [
       "<Figure size 432x288 with 1 Axes>"
      ]
     },
     "metadata": {
      "needs_background": "light"
     },
     "output_type": "display_data"
    }
   ],
   "source": [
    "sns.countplot(data=df, x=TARGET);"
   ]
  },
  {
   "cell_type": "code",
   "execution_count": 64,
   "metadata": {},
   "outputs": [],
   "source": [
    "#Get categorical and numerical data\n",
    "categorical_features = [\n",
    " 'gender',\n",
    " 'SeniorCitizen',\n",
    " 'Partner',\n",
    " 'Dependents',\n",
    " 'PhoneService',\n",
    " 'MultipleLines',\n",
    " 'InternetService',\n",
    " 'OnlineSecurity',\n",
    " 'OnlineBackup',\n",
    " 'DeviceProtection',\n",
    " 'TechSupport',\n",
    " 'StreamingTV',\n",
    " 'StreamingMovies',\n",
    " 'Contract',\n",
    " 'PaperlessBilling',\n",
    " 'PaymentMethod',\n",
    "]\n",
    "numerical_features = ['tenure', 'MonthlyCharges', 'TotalCharges']\n",
    "target = 'Churn'"
   ]
  },
  {
   "cell_type": "code",
   "execution_count": 65,
   "metadata": {},
   "outputs": [
    {
     "data": {
      "text/html": [
       "<div>\n",
       "<style scoped>\n",
       "    .dataframe tbody tr th:only-of-type {\n",
       "        vertical-align: middle;\n",
       "    }\n",
       "\n",
       "    .dataframe tbody tr th {\n",
       "        vertical-align: top;\n",
       "    }\n",
       "\n",
       "    .dataframe thead th {\n",
       "        text-align: right;\n",
       "    }\n",
       "</style>\n",
       "<table border=\"1\" class=\"dataframe\">\n",
       "  <thead>\n",
       "    <tr style=\"text-align: right;\">\n",
       "      <th></th>\n",
       "      <th>tenure</th>\n",
       "      <th>MonthlyCharges</th>\n",
       "      <th>TotalCharges</th>\n",
       "    </tr>\n",
       "  </thead>\n",
       "  <tbody>\n",
       "    <tr>\n",
       "      <td>count</td>\n",
       "      <td>7043.000000</td>\n",
       "      <td>7043.000000</td>\n",
       "      <td>7032.000000</td>\n",
       "    </tr>\n",
       "    <tr>\n",
       "      <td>mean</td>\n",
       "      <td>32.371149</td>\n",
       "      <td>64.761692</td>\n",
       "      <td>2283.300441</td>\n",
       "    </tr>\n",
       "    <tr>\n",
       "      <td>std</td>\n",
       "      <td>24.559481</td>\n",
       "      <td>30.090047</td>\n",
       "      <td>2266.771362</td>\n",
       "    </tr>\n",
       "    <tr>\n",
       "      <td>min</td>\n",
       "      <td>0.000000</td>\n",
       "      <td>18.250000</td>\n",
       "      <td>18.800000</td>\n",
       "    </tr>\n",
       "    <tr>\n",
       "      <td>25%</td>\n",
       "      <td>9.000000</td>\n",
       "      <td>35.500000</td>\n",
       "      <td>401.450000</td>\n",
       "    </tr>\n",
       "    <tr>\n",
       "      <td>50%</td>\n",
       "      <td>29.000000</td>\n",
       "      <td>70.350000</td>\n",
       "      <td>1397.475000</td>\n",
       "    </tr>\n",
       "    <tr>\n",
       "      <td>75%</td>\n",
       "      <td>55.000000</td>\n",
       "      <td>89.850000</td>\n",
       "      <td>3794.737500</td>\n",
       "    </tr>\n",
       "    <tr>\n",
       "      <td>max</td>\n",
       "      <td>72.000000</td>\n",
       "      <td>118.750000</td>\n",
       "      <td>8684.800000</td>\n",
       "    </tr>\n",
       "  </tbody>\n",
       "</table>\n",
       "</div>"
      ],
      "text/plain": [
       "            tenure  MonthlyCharges  TotalCharges\n",
       "count  7043.000000     7043.000000   7032.000000\n",
       "mean     32.371149       64.761692   2283.300441\n",
       "std      24.559481       30.090047   2266.771362\n",
       "min       0.000000       18.250000     18.800000\n",
       "25%       9.000000       35.500000    401.450000\n",
       "50%      29.000000       70.350000   1397.475000\n",
       "75%      55.000000       89.850000   3794.737500\n",
       "max      72.000000      118.750000   8684.800000"
      ]
     },
     "execution_count": 65,
     "metadata": {},
     "output_type": "execute_result"
    }
   ],
   "source": [
    "df[numerical_features].describe()"
   ]
  },
  {
   "cell_type": "code",
   "execution_count": 66,
   "metadata": {},
   "outputs": [
    {
     "data": {
      "text/plain": [
       "array([[<matplotlib.axes._subplots.AxesSubplot object at 0x7fe75f87ac50>,\n",
       "        <matplotlib.axes._subplots.AxesSubplot object at 0x7fe75f83c6d0>],\n",
       "       [<matplotlib.axes._subplots.AxesSubplot object at 0x7fe75e801ed0>,\n",
       "        <matplotlib.axes._subplots.AxesSubplot object at 0x7fe75ea97710>]],\n",
       "      dtype=object)"
      ]
     },
     "execution_count": 66,
     "metadata": {},
     "output_type": "execute_result"
    },
    {
     "data": {
      "image/png": "[encoded data removed]",
      "text/plain": [
       "<Figure size 720x504 with 4 Axes>"
      ]
     },
     "metadata": {
      "needs_background": "light"
     },
     "output_type": "display_data"
    }
   ],
   "source": [
    "df[numerical_features].hist(bins=30, figsize=(10, 7))"
   ]
  },
  {
   "cell_type": "code",
   "execution_count": 67,
   "metadata": {},
   "outputs": [
    {
     "name": "stderr",
     "output_type": "stream",
     "text": [
      "/Users/fabian/opt/anaconda3/lib/python3.7/site-packages/ipykernel_launcher.py:8: FutureWarning: `Series.plot()` should not be called with positional arguments, only keyword arguments. The order of positional arguments will change in the future. Use `Series.plot(kind='bar')` instead of `Series.plot('bar',)`.\n",
      "  \n"
     ]
    },
    {
     "data": {
      "image/png": "[encoded data removed]",
      "text/plain": [
       "<Figure size 1296x1296 with 16 Axes>"
      ]
     },
     "metadata": {
      "needs_background": "light"
     },
     "output_type": "display_data"
    }
   ],
   "source": [
    "ROWS, COLS = 4, 4\n",
    "fig, ax = plt.subplots(ROWS, COLS, figsize=(18, 18))\n",
    "row, col = 0, 0\n",
    "for i, categorical_feature in enumerate(categorical_features):\n",
    "    if col == COLS - 1:\n",
    "        row += 1\n",
    "    col = i % COLS\n",
    "    df[categorical_feature].value_counts().plot('bar', ax=ax[row, col]).set_title(categorical_feature)"
   ]
  },
  {
   "cell_type": "code",
   "execution_count": 68,
   "metadata": {},
   "outputs": [
    {
     "data": {
      "text/html": [
       "<div>\n",
       "<style scoped>\n",
       "    .dataframe tbody tr th:only-of-type {\n",
       "        vertical-align: middle;\n",
       "    }\n",
       "\n",
       "    .dataframe tbody tr th {\n",
       "        vertical-align: top;\n",
       "    }\n",
       "\n",
       "    .dataframe thead th {\n",
       "        text-align: right;\n",
       "    }\n",
       "</style>\n",
       "<table border=\"1\" class=\"dataframe\">\n",
       "  <thead>\n",
       "    <tr style=\"text-align: right;\">\n",
       "      <th></th>\n",
       "      <th>tenure</th>\n",
       "      <th>MonthlyCharges</th>\n",
       "      <th>TotalCharges</th>\n",
       "    </tr>\n",
       "  </thead>\n",
       "  <tbody>\n",
       "    <tr>\n",
       "      <td>tenure</td>\n",
       "      <td>1.00000</td>\n",
       "      <td>0.247900</td>\n",
       "      <td>0.825880</td>\n",
       "    </tr>\n",
       "    <tr>\n",
       "      <td>MonthlyCharges</td>\n",
       "      <td>0.24790</td>\n",
       "      <td>1.000000</td>\n",
       "      <td>0.651065</td>\n",
       "    </tr>\n",
       "    <tr>\n",
       "      <td>TotalCharges</td>\n",
       "      <td>0.82588</td>\n",
       "      <td>0.651065</td>\n",
       "      <td>1.000000</td>\n",
       "    </tr>\n",
       "  </tbody>\n",
       "</table>\n",
       "</div>"
      ],
      "text/plain": [
       "                 tenure  MonthlyCharges  TotalCharges\n",
       "tenure          1.00000        0.247900      0.825880\n",
       "MonthlyCharges  0.24790        1.000000      0.651065\n",
       "TotalCharges    0.82588        0.651065      1.000000"
      ]
     },
     "execution_count": 68,
     "metadata": {},
     "output_type": "execute_result"
    }
   ],
   "source": [
    "df[numerical_features].corr()"
   ]
  },
  {
   "cell_type": "markdown",
   "metadata": {},
   "source": [
    "## Data Preprocessing"
   ]
  },
  {
   "cell_type": "code",
   "execution_count": 69,
   "metadata": {},
   "outputs": [
    {
     "data": {
      "text/plain": [
       "gender               object\n",
       "SeniorCitizen         int64\n",
       "Partner              object\n",
       "Dependents           object\n",
       "tenure                int64\n",
       "PhoneService         object\n",
       "MultipleLines        object\n",
       "InternetService      object\n",
       "OnlineSecurity       object\n",
       "OnlineBackup         object\n",
       "DeviceProtection     object\n",
       "TechSupport          object\n",
       "StreamingTV          object\n",
       "StreamingMovies      object\n",
       "Contract             object\n",
       "PaperlessBilling     object\n",
       "PaymentMethod        object\n",
       "MonthlyCharges      float64\n",
       "TotalCharges        float64\n",
       "Churn                object\n",
       "dtype: object"
      ]
     },
     "execution_count": 69,
     "metadata": {},
     "output_type": "execute_result"
    }
   ],
   "source": [
    "#Check Types. lightGBM does not work with object\n",
    "df.dtypes"
   ]
  },
  {
   "cell_type": "code",
   "execution_count": 70,
   "metadata": {},
   "outputs": [],
   "source": [
    "#Convert all the non-numeric columns to numerical data types\n",
    "for column in df.columns:\n",
    "   if df[column].dtype == np.number:\n",
    "      continue\n",
    "   df[column] = LabelEncoder().fit_transform(df[column])"
   ]
  },
  {
   "cell_type": "code",
   "execution_count": null,
   "metadata": {},
   "outputs": [],
   "source": []
  },
  {
   "cell_type": "code",
   "execution_count": 71,
   "metadata": {},
   "outputs": [
    {
     "data": {
      "text/plain": [
       "gender               0\n",
       "SeniorCitizen        0\n",
       "Partner              0\n",
       "Dependents           0\n",
       "tenure               0\n",
       "PhoneService         0\n",
       "MultipleLines        0\n",
       "InternetService      0\n",
       "OnlineSecurity       0\n",
       "OnlineBackup         0\n",
       "DeviceProtection     0\n",
       "TechSupport          0\n",
       "StreamingTV          0\n",
       "StreamingMovies      0\n",
       "Contract             0\n",
       "PaperlessBilling     0\n",
       "PaymentMethod        0\n",
       "MonthlyCharges       0\n",
       "TotalCharges        11\n",
       "Churn                0\n",
       "dtype: int64"
      ]
     },
     "execution_count": 71,
     "metadata": {},
     "output_type": "execute_result"
    }
   ],
   "source": [
    "df.isnull().sum()"
   ]
  },
  {
   "cell_type": "code",
   "execution_count": 72,
   "metadata": {},
   "outputs": [],
   "source": [
    "#Drop all rows with NaN data\n",
    "df = df.dropna() "
   ]
  },
  {
   "cell_type": "code",
   "execution_count": 73,
   "metadata": {},
   "outputs": [
    {
     "data": {
      "text/plain": [
       "gender                int64\n",
       "SeniorCitizen         int64\n",
       "Partner               int64\n",
       "Dependents            int64\n",
       "tenure                int64\n",
       "PhoneService          int64\n",
       "MultipleLines         int64\n",
       "InternetService       int64\n",
       "OnlineSecurity        int64\n",
       "OnlineBackup          int64\n",
       "DeviceProtection      int64\n",
       "TechSupport           int64\n",
       "StreamingTV           int64\n",
       "StreamingMovies       int64\n",
       "Contract              int64\n",
       "PaperlessBilling      int64\n",
       "PaymentMethod         int64\n",
       "MonthlyCharges      float64\n",
       "TotalCharges        float64\n",
       "Churn                 int64\n",
       "dtype: object"
      ]
     },
     "execution_count": 73,
     "metadata": {},
     "output_type": "execute_result"
    }
   ],
   "source": [
    "#Check if no object types are left\n",
    "df.dtypes"
   ]
  },
  {
   "cell_type": "code",
   "execution_count": 74,
   "metadata": {},
   "outputs": [
    {
     "data": {
      "text/html": [
       "<div>\n",
       "<style scoped>\n",
       "    .dataframe tbody tr th:only-of-type {\n",
       "        vertical-align: middle;\n",
       "    }\n",
       "\n",
       "    .dataframe tbody tr th {\n",
       "        vertical-align: top;\n",
       "    }\n",
       "\n",
       "    .dataframe thead th {\n",
       "        text-align: right;\n",
       "    }\n",
       "</style>\n",
       "<table border=\"1\" class=\"dataframe\">\n",
       "  <thead>\n",
       "    <tr style=\"text-align: right;\">\n",
       "      <th></th>\n",
       "      <th>gender</th>\n",
       "      <th>SeniorCitizen</th>\n",
       "      <th>Partner</th>\n",
       "      <th>Dependents</th>\n",
       "      <th>tenure</th>\n",
       "      <th>PhoneService</th>\n",
       "      <th>MultipleLines</th>\n",
       "      <th>InternetService</th>\n",
       "      <th>OnlineSecurity</th>\n",
       "      <th>OnlineBackup</th>\n",
       "      <th>DeviceProtection</th>\n",
       "      <th>TechSupport</th>\n",
       "      <th>StreamingTV</th>\n",
       "      <th>StreamingMovies</th>\n",
       "      <th>Contract</th>\n",
       "      <th>PaperlessBilling</th>\n",
       "      <th>PaymentMethod</th>\n",
       "      <th>MonthlyCharges</th>\n",
       "      <th>TotalCharges</th>\n",
       "      <th>Churn</th>\n",
       "    </tr>\n",
       "  </thead>\n",
       "  <tbody>\n",
       "    <tr>\n",
       "      <td>0</td>\n",
       "      <td>0</td>\n",
       "      <td>0</td>\n",
       "      <td>1</td>\n",
       "      <td>0</td>\n",
       "      <td>1</td>\n",
       "      <td>0</td>\n",
       "      <td>1</td>\n",
       "      <td>0</td>\n",
       "      <td>0</td>\n",
       "      <td>2</td>\n",
       "      <td>0</td>\n",
       "      <td>0</td>\n",
       "      <td>0</td>\n",
       "      <td>0</td>\n",
       "      <td>0</td>\n",
       "      <td>1</td>\n",
       "      <td>2</td>\n",
       "      <td>29.85</td>\n",
       "      <td>29.85</td>\n",
       "      <td>0</td>\n",
       "    </tr>\n",
       "    <tr>\n",
       "      <td>1</td>\n",
       "      <td>1</td>\n",
       "      <td>0</td>\n",
       "      <td>0</td>\n",
       "      <td>0</td>\n",
       "      <td>34</td>\n",
       "      <td>1</td>\n",
       "      <td>0</td>\n",
       "      <td>0</td>\n",
       "      <td>2</td>\n",
       "      <td>0</td>\n",
       "      <td>2</td>\n",
       "      <td>0</td>\n",
       "      <td>0</td>\n",
       "      <td>0</td>\n",
       "      <td>1</td>\n",
       "      <td>0</td>\n",
       "      <td>3</td>\n",
       "      <td>56.95</td>\n",
       "      <td>1889.50</td>\n",
       "      <td>0</td>\n",
       "    </tr>\n",
       "    <tr>\n",
       "      <td>2</td>\n",
       "      <td>1</td>\n",
       "      <td>0</td>\n",
       "      <td>0</td>\n",
       "      <td>0</td>\n",
       "      <td>2</td>\n",
       "      <td>1</td>\n",
       "      <td>0</td>\n",
       "      <td>0</td>\n",
       "      <td>2</td>\n",
       "      <td>2</td>\n",
       "      <td>0</td>\n",
       "      <td>0</td>\n",
       "      <td>0</td>\n",
       "      <td>0</td>\n",
       "      <td>0</td>\n",
       "      <td>1</td>\n",
       "      <td>3</td>\n",
       "      <td>53.85</td>\n",
       "      <td>108.15</td>\n",
       "      <td>1</td>\n",
       "    </tr>\n",
       "    <tr>\n",
       "      <td>3</td>\n",
       "      <td>1</td>\n",
       "      <td>0</td>\n",
       "      <td>0</td>\n",
       "      <td>0</td>\n",
       "      <td>45</td>\n",
       "      <td>0</td>\n",
       "      <td>1</td>\n",
       "      <td>0</td>\n",
       "      <td>2</td>\n",
       "      <td>0</td>\n",
       "      <td>2</td>\n",
       "      <td>2</td>\n",
       "      <td>0</td>\n",
       "      <td>0</td>\n",
       "      <td>1</td>\n",
       "      <td>0</td>\n",
       "      <td>0</td>\n",
       "      <td>42.30</td>\n",
       "      <td>1840.75</td>\n",
       "      <td>0</td>\n",
       "    </tr>\n",
       "    <tr>\n",
       "      <td>4</td>\n",
       "      <td>0</td>\n",
       "      <td>0</td>\n",
       "      <td>0</td>\n",
       "      <td>0</td>\n",
       "      <td>2</td>\n",
       "      <td>1</td>\n",
       "      <td>0</td>\n",
       "      <td>1</td>\n",
       "      <td>0</td>\n",
       "      <td>0</td>\n",
       "      <td>0</td>\n",
       "      <td>0</td>\n",
       "      <td>0</td>\n",
       "      <td>0</td>\n",
       "      <td>0</td>\n",
       "      <td>1</td>\n",
       "      <td>2</td>\n",
       "      <td>70.70</td>\n",
       "      <td>151.65</td>\n",
       "      <td>1</td>\n",
       "    </tr>\n",
       "  </tbody>\n",
       "</table>\n",
       "</div>"
      ],
      "text/plain": [
       "   gender  SeniorCitizen  Partner  Dependents  tenure  PhoneService  \\\n",
       "0       0              0        1           0       1             0   \n",
       "1       1              0        0           0      34             1   \n",
       "2       1              0        0           0       2             1   \n",
       "3       1              0        0           0      45             0   \n",
       "4       0              0        0           0       2             1   \n",
       "\n",
       "   MultipleLines  InternetService  OnlineSecurity  OnlineBackup  \\\n",
       "0              1                0               0             2   \n",
       "1              0                0               2             0   \n",
       "2              0                0               2             2   \n",
       "3              1                0               2             0   \n",
       "4              0                1               0             0   \n",
       "\n",
       "   DeviceProtection  TechSupport  StreamingTV  StreamingMovies  Contract  \\\n",
       "0                 0            0            0                0         0   \n",
       "1                 2            0            0                0         1   \n",
       "2                 0            0            0                0         0   \n",
       "3                 2            2            0                0         1   \n",
       "4                 0            0            0                0         0   \n",
       "\n",
       "   PaperlessBilling  PaymentMethod  MonthlyCharges  TotalCharges  Churn  \n",
       "0                 1              2           29.85         29.85      0  \n",
       "1                 0              3           56.95       1889.50      0  \n",
       "2                 1              3           53.85        108.15      1  \n",
       "3                 0              0           42.30       1840.75      0  \n",
       "4                 1              2           70.70        151.65      1  "
      ]
     },
     "execution_count": 74,
     "metadata": {},
     "output_type": "execute_result"
    }
   ],
   "source": [
    "df.head()"
   ]
  },
  {
   "cell_type": "code",
   "execution_count": 75,
   "metadata": {},
   "outputs": [
    {
     "data": {
      "text/plain": [
       "gender              0\n",
       "SeniorCitizen       0\n",
       "Partner             0\n",
       "Dependents          0\n",
       "tenure              0\n",
       "PhoneService        0\n",
       "MultipleLines       0\n",
       "InternetService     0\n",
       "OnlineSecurity      0\n",
       "OnlineBackup        0\n",
       "DeviceProtection    0\n",
       "TechSupport         0\n",
       "StreamingTV         0\n",
       "StreamingMovies     0\n",
       "Contract            0\n",
       "PaperlessBilling    0\n",
       "PaymentMethod       0\n",
       "MonthlyCharges      0\n",
       "TotalCharges        0\n",
       "Churn               0\n",
       "dtype: int64"
      ]
     },
     "execution_count": 75,
     "metadata": {},
     "output_type": "execute_result"
    }
   ],
   "source": [
    "df.isnull().sum()"
   ]
  },
  {
   "cell_type": "code",
   "execution_count": 76,
   "metadata": {},
   "outputs": [
    {
     "data": {
      "text/plain": [
       "(7032, 20)"
      ]
     },
     "execution_count": 76,
     "metadata": {},
     "output_type": "execute_result"
    }
   ],
   "source": [
    "df.shape"
   ]
  },
  {
   "cell_type": "code",
   "execution_count": 77,
   "metadata": {},
   "outputs": [],
   "source": [
    "Y = df[\"Churn\"].values\n",
    "X = df.drop(labels = [\"Churn\"],axis = 1)\n",
    "#Scaler has bad impact on results but can be activated\n",
    "#X = StandardScaler().fit_transform(X)\n"
   ]
  },
  {
   "cell_type": "code",
   "execution_count": 78,
   "metadata": {},
   "outputs": [],
   "source": [
    "#Train Test Split\n",
    "X_train, X_test, y_train, y_test = train_test_split(X, Y, test_size=0.2, random_state=42)"
   ]
  },
  {
   "cell_type": "markdown",
   "metadata": {},
   "source": [
    "## Test Random Forrest"
   ]
  },
  {
   "cell_type": "code",
   "execution_count": 79,
   "metadata": {},
   "outputs": [],
   "source": [
    "#Perform Quick Random Forrest to check Acc\n",
    "from sklearn.ensemble import RandomForestClassifier"
   ]
  },
  {
   "cell_type": "code",
   "execution_count": 80,
   "metadata": {},
   "outputs": [],
   "source": [
    "clf = RandomForestClassifier(max_depth=7, random_state=0)"
   ]
  },
  {
   "cell_type": "code",
   "execution_count": 81,
   "metadata": {
    "scrolled": true
   },
   "outputs": [
    {
     "name": "stderr",
     "output_type": "stream",
     "text": [
      "/Users/fabian/opt/anaconda3/lib/python3.7/site-packages/sklearn/ensemble/forest.py:245: FutureWarning: The default value of n_estimators will change from 10 in version 0.20 to 100 in 0.22.\n",
      "  \"10 in version 0.20 to 100 in 0.22.\", FutureWarning)\n"
     ]
    },
    {
     "data": {
      "text/plain": [
       "RandomForestClassifier(bootstrap=True, class_weight=None, criterion='gini',\n",
       "                       max_depth=7, max_features='auto', max_leaf_nodes=None,\n",
       "                       min_impurity_decrease=0.0, min_impurity_split=None,\n",
       "                       min_samples_leaf=1, min_samples_split=2,\n",
       "                       min_weight_fraction_leaf=0.0, n_estimators=10,\n",
       "                       n_jobs=None, oob_score=False, random_state=0, verbose=0,\n",
       "                       warm_start=False)"
      ]
     },
     "execution_count": 81,
     "metadata": {},
     "output_type": "execute_result"
    }
   ],
   "source": [
    "clf.fit(X_train, y_train)"
   ]
  },
  {
   "cell_type": "code",
   "execution_count": 82,
   "metadata": {},
   "outputs": [],
   "source": [
    "y_pred=clf.predict(X_test)"
   ]
  },
  {
   "cell_type": "code",
   "execution_count": 83,
   "metadata": {},
   "outputs": [
    {
     "name": "stdout",
     "output_type": "stream",
     "text": [
      "Accuracy: 0.7931769722814499\n"
     ]
    }
   ],
   "source": [
    "from sklearn import metrics\n",
    "print(\"Accuracy:\",metrics.accuracy_score(y_test, y_pred))"
   ]
  },
  {
   "cell_type": "markdown",
   "metadata": {},
   "source": [
    "## LightGBM"
   ]
  },
  {
   "cell_type": "code",
   "execution_count": 84,
   "metadata": {},
   "outputs": [],
   "source": [
    "#Split data into labeled test and train data set \n",
    "d_train = lgb.Dataset(X_train, label=y_train)\n",
    "d_test = lgb.Dataset(X_test, label=y_test)"
   ]
  },
  {
   "cell_type": "code",
   "execution_count": 85,
   "metadata": {},
   "outputs": [],
   "source": [
    "#Setup parameters for lightGBM\n",
    "params = {'num_boost_round':250, #Iterations\n",
    "         'num_leaves':100,\n",
    "         'objective':'binary',\n",
    "         'max_depth':5, #Max Tree Depth\n",
    "         'learning_rate':.05,\n",
    "         'max_bin':100,\n",
    "         'boosting_type':'gbdt',\n",
    "         'min_data_in_leaf': 2000\n",
    "        }\n",
    "params['metric'] = ['auc', 'binary_logloss']\n",
    "\n"
   ]
  },
  {
   "cell_type": "markdown",
   "metadata": {},
   "source": [
    "### Wichtige Parameter\n",
    "\n",
    "**objective** (default: 'regression'), (z.B. 'regression', 'binary', 'multiclass'): Legt das Target fest. In diesem Fall Binary da Churn 0 oder 1 darstellt.\n",
    "\n",
    "**boosting_type** (default: 'gbdt'), ('gbdt','rf', 'dart', 'goss'): \n",
    "- gbdt, traditional Gradient Boosting Decision Tree, aliases: gbrt\n",
    "- rf, Random Forest, aliases: random_forest\n",
    "- dart, Dropouts meet Multiple Additive Regression Trees\n",
    "- goss, Gradient-based One-Side Sampling\n",
    "\n",
    "**num_boost_round** (default: 100) (int > 0): Anzahl der Iterationen. Kann mit Early Stopping abgebrochen werden um Overfitting zu vermeiden\n",
    "\n",
    "**num_leaves** (default: 31), (int > 0): Hauptparameter um die Komplexität des Modells einzugrenzen. Sollte maximal 2^may_depth entsprechen um Overfitting zu vermeiden. Tendenziell etwas niedriger wählen.\n",
    "\n",
    "**min_data_in_leaf** (default: 20),(int > 0): Zur Vermeidung von Overfitting, hoher Wert verhindert einen tiefen Baum kann aber zu Underfitting führen. \n",
    "\n",
    "**max_depth** (default: -1), (int > 0, -1): Zur manuellen Begrenzung der Baumtiefe.\n",
    "\n",
    "\n"
   ]
  },
  {
   "cell_type": "code",
   "execution_count": 86,
   "metadata": {},
   "outputs": [
    {
     "name": "stderr",
     "output_type": "stream",
     "text": [
      "/Users/fabian/opt/anaconda3/lib/python3.7/site-packages/lightgbm/engine.py:148: UserWarning: Found `num_boost_round` in params. Will use it instead of argument\n",
      "  warnings.warn(\"Found `{}` in params. Will use it instead of argument\".format(alias))\n"
     ]
    },
    {
     "name": "stdout",
     "output_type": "stream",
     "text": [
      "[1]\ttraining's auc: 0.731649\ttraining's binary_logloss: 0.570767\tvalid_1's auc: 0.712208\tvalid_1's binary_logloss: 0.571512\n",
      "Training until validation scores don't improve for 10 rounds\n",
      "[2]\ttraining's auc: 0.731649\ttraining's binary_logloss: 0.563286\tvalid_1's auc: 0.712208\tvalid_1's binary_logloss: 0.564705\n",
      "[3]\ttraining's auc: 0.731649\ttraining's binary_logloss: 0.556487\tvalid_1's auc: 0.712208\tvalid_1's binary_logloss: 0.558549\n",
      "[4]\ttraining's auc: 0.731649\ttraining's binary_logloss: 0.550301\tvalid_1's auc: 0.712208\tvalid_1's binary_logloss: 0.552976\n",
      "[5]\ttraining's auc: 0.731649\ttraining's binary_logloss: 0.544665\tvalid_1's auc: 0.712208\tvalid_1's binary_logloss: 0.547925\n",
      "[6]\ttraining's auc: 0.731649\ttraining's binary_logloss: 0.539524\tvalid_1's auc: 0.712208\tvalid_1's binary_logloss: 0.543344\n",
      "[7]\ttraining's auc: 0.731649\ttraining's binary_logloss: 0.534831\tvalid_1's auc: 0.712208\tvalid_1's binary_logloss: 0.539187\n",
      "[8]\ttraining's auc: 0.786341\ttraining's binary_logloss: 0.530402\tvalid_1's auc: 0.762055\tvalid_1's binary_logloss: 0.535248\n",
      "[9]\ttraining's auc: 0.786341\ttraining's binary_logloss: 0.526263\tvalid_1's auc: 0.762055\tvalid_1's binary_logloss: 0.531612\n",
      "[10]\ttraining's auc: 0.786341\ttraining's binary_logloss: 0.522391\tvalid_1's auc: 0.762055\tvalid_1's binary_logloss: 0.528198\n",
      "[11]\ttraining's auc: 0.786341\ttraining's binary_logloss: 0.518733\tvalid_1's auc: 0.762055\tvalid_1's binary_logloss: 0.525013\n",
      "[12]\ttraining's auc: 0.802086\ttraining's binary_logloss: 0.515243\tvalid_1's auc: 0.776039\tvalid_1's binary_logloss: 0.521938\n",
      "[13]\ttraining's auc: 0.802086\ttraining's binary_logloss: 0.511999\tvalid_1's auc: 0.776039\tvalid_1's binary_logloss: 0.519115\n",
      "[14]\ttraining's auc: 0.802086\ttraining's binary_logloss: 0.508877\tvalid_1's auc: 0.776039\tvalid_1's binary_logloss: 0.516431\n",
      "[15]\ttraining's auc: 0.802086\ttraining's binary_logloss: 0.505959\tvalid_1's auc: 0.776039\tvalid_1's binary_logloss: 0.513896\n",
      "[16]\ttraining's auc: 0.802086\ttraining's binary_logloss: 0.5032\tvalid_1's auc: 0.776039\tvalid_1's binary_logloss: 0.511551\n",
      "[17]\ttraining's auc: 0.802086\ttraining's binary_logloss: 0.50056\tvalid_1's auc: 0.776039\tvalid_1's binary_logloss: 0.509292\n",
      "[18]\ttraining's auc: 0.802086\ttraining's binary_logloss: 0.498111\tvalid_1's auc: 0.776039\tvalid_1's binary_logloss: 0.507233\n",
      "[19]\ttraining's auc: 0.802086\ttraining's binary_logloss: 0.49575\tvalid_1's auc: 0.776039\tvalid_1's binary_logloss: 0.505219\n",
      "[20]\ttraining's auc: 0.802086\ttraining's binary_logloss: 0.493523\tvalid_1's auc: 0.776039\tvalid_1's binary_logloss: 0.503343\n",
      "[21]\ttraining's auc: 0.814949\ttraining's binary_logloss: 0.491367\tvalid_1's auc: 0.79488\tvalid_1's binary_logloss: 0.50108\n",
      "[22]\ttraining's auc: 0.814949\ttraining's binary_logloss: 0.489342\tvalid_1's auc: 0.79488\tvalid_1's binary_logloss: 0.499383\n",
      "[23]\ttraining's auc: 0.814949\ttraining's binary_logloss: 0.487394\tvalid_1's auc: 0.79488\tvalid_1's binary_logloss: 0.497784\n",
      "[24]\ttraining's auc: 0.814949\ttraining's binary_logloss: 0.485541\tvalid_1's auc: 0.79488\tvalid_1's binary_logloss: 0.496249\n",
      "[25]\ttraining's auc: 0.814949\ttraining's binary_logloss: 0.483737\tvalid_1's auc: 0.79488\tvalid_1's binary_logloss: 0.494345\n",
      "[26]\ttraining's auc: 0.815563\ttraining's binary_logloss: 0.482058\tvalid_1's auc: 0.795628\tvalid_1's binary_logloss: 0.492969\n",
      "[27]\ttraining's auc: 0.815563\ttraining's binary_logloss: 0.48045\tvalid_1's auc: 0.795628\tvalid_1's binary_logloss: 0.491678\n",
      "[28]\ttraining's auc: 0.824761\ttraining's binary_logloss: 0.478893\tvalid_1's auc: 0.803741\tvalid_1's binary_logloss: 0.490438\n",
      "[29]\ttraining's auc: 0.824626\ttraining's binary_logloss: 0.477334\tvalid_1's auc: 0.803907\tvalid_1's binary_logloss: 0.488785\n",
      "[30]\ttraining's auc: 0.824761\ttraining's binary_logloss: 0.475854\tvalid_1's auc: 0.803741\tvalid_1's binary_logloss: 0.487588\n",
      "[31]\ttraining's auc: 0.824761\ttraining's binary_logloss: 0.474462\tvalid_1's auc: 0.803741\tvalid_1's binary_logloss: 0.486496\n",
      "[32]\ttraining's auc: 0.824761\ttraining's binary_logloss: 0.47305\tvalid_1's auc: 0.803741\tvalid_1's binary_logloss: 0.484994\n",
      "[33]\ttraining's auc: 0.824761\ttraining's binary_logloss: 0.471746\tvalid_1's auc: 0.803741\tvalid_1's binary_logloss: 0.483978\n",
      "[34]\ttraining's auc: 0.825495\ttraining's binary_logloss: 0.470465\tvalid_1's auc: 0.80428\tvalid_1's binary_logloss: 0.482987\n",
      "[35]\ttraining's auc: 0.825495\ttraining's binary_logloss: 0.469224\tvalid_1's auc: 0.80428\tvalid_1's binary_logloss: 0.48166\n",
      "[36]\ttraining's auc: 0.825971\ttraining's binary_logloss: 0.468014\tvalid_1's auc: 0.80458\tvalid_1's binary_logloss: 0.480706\n",
      "[37]\ttraining's auc: 0.826129\ttraining's binary_logloss: 0.466862\tvalid_1's auc: 0.804494\tvalid_1's binary_logloss: 0.479829\n",
      "[38]\ttraining's auc: 0.82657\ttraining's binary_logloss: 0.465737\tvalid_1's auc: 0.805188\tvalid_1's binary_logloss: 0.478622\n",
      "[39]\ttraining's auc: 0.826129\ttraining's binary_logloss: 0.464633\tvalid_1's auc: 0.804494\tvalid_1's binary_logloss: 0.477761\n",
      "[40]\ttraining's auc: 0.826705\ttraining's binary_logloss: 0.463601\tvalid_1's auc: 0.805022\tvalid_1's binary_logloss: 0.476989\n",
      "[41]\ttraining's auc: 0.826705\ttraining's binary_logloss: 0.462576\tvalid_1's auc: 0.805022\tvalid_1's binary_logloss: 0.476222\n",
      "[42]\ttraining's auc: 0.826705\ttraining's binary_logloss: 0.461597\tvalid_1's auc: 0.805022\tvalid_1's binary_logloss: 0.475165\n",
      "[43]\ttraining's auc: 0.826705\ttraining's binary_logloss: 0.460645\tvalid_1's auc: 0.805022\tvalid_1's binary_logloss: 0.474465\n",
      "[44]\ttraining's auc: 0.826705\ttraining's binary_logloss: 0.459723\tvalid_1's auc: 0.805022\tvalid_1's binary_logloss: 0.473767\n",
      "[45]\ttraining's auc: 0.826609\ttraining's binary_logloss: 0.458833\tvalid_1's auc: 0.805299\tvalid_1's binary_logloss: 0.472803\n",
      "[46]\ttraining's auc: 0.826744\ttraining's binary_logloss: 0.45797\tvalid_1's auc: 0.805134\tvalid_1's binary_logloss: 0.472154\n",
      "[47]\ttraining's auc: 0.826865\ttraining's binary_logloss: 0.457135\tvalid_1's auc: 0.804964\tvalid_1's binary_logloss: 0.471614\n",
      "[48]\ttraining's auc: 0.826864\ttraining's binary_logloss: 0.456321\tvalid_1's auc: 0.804959\tvalid_1's binary_logloss: 0.471034\n",
      "[49]\ttraining's auc: 0.827801\ttraining's binary_logloss: 0.455545\tvalid_1's auc: 0.806238\tvalid_1's binary_logloss: 0.470187\n",
      "[50]\ttraining's auc: 0.828055\ttraining's binary_logloss: 0.454773\tvalid_1's auc: 0.806102\tvalid_1's binary_logloss: 0.46967\n",
      "[51]\ttraining's auc: 0.827495\ttraining's binary_logloss: 0.454049\tvalid_1's auc: 0.805569\tvalid_1's binary_logloss: 0.469146\n",
      "[52]\ttraining's auc: 0.82852\ttraining's binary_logloss: 0.453341\tvalid_1's auc: 0.806658\tvalid_1's binary_logloss: 0.46837\n",
      "[53]\ttraining's auc: 0.82853\ttraining's binary_logloss: 0.452641\tvalid_1's auc: 0.806658\tvalid_1's binary_logloss: 0.467943\n",
      "[54]\ttraining's auc: 0.828515\ttraining's binary_logloss: 0.451977\tvalid_1's auc: 0.806658\tvalid_1's binary_logloss: 0.467491\n",
      "[55]\ttraining's auc: 0.82853\ttraining's binary_logloss: 0.451336\tvalid_1's auc: 0.806658\tvalid_1's binary_logloss: 0.467033\n",
      "[56]\ttraining's auc: 0.828538\ttraining's binary_logloss: 0.450717\tvalid_1's auc: 0.8067\tvalid_1's binary_logloss: 0.466643\n",
      "[57]\ttraining's auc: 0.828538\ttraining's binary_logloss: 0.450085\tvalid_1's auc: 0.8067\tvalid_1's binary_logloss: 0.465946\n",
      "[58]\ttraining's auc: 0.828668\ttraining's binary_logloss: 0.449509\tvalid_1's auc: 0.807566\tvalid_1's binary_logloss: 0.465344\n",
      "[59]\ttraining's auc: 0.829747\ttraining's binary_logloss: 0.448923\tvalid_1's auc: 0.807742\tvalid_1's binary_logloss: 0.464982\n",
      "[60]\ttraining's auc: 0.828756\ttraining's binary_logloss: 0.448374\tvalid_1's auc: 0.807307\tvalid_1's binary_logloss: 0.464606\n",
      "[61]\ttraining's auc: 0.828902\ttraining's binary_logloss: 0.447844\tvalid_1's auc: 0.808421\tvalid_1's binary_logloss: 0.463953\n",
      "[62]\ttraining's auc: 0.829959\ttraining's binary_logloss: 0.447313\tvalid_1's auc: 0.808682\tvalid_1's binary_logloss: 0.463661\n",
      "[63]\ttraining's auc: 0.829959\ttraining's binary_logloss: 0.446805\tvalid_1's auc: 0.808682\tvalid_1's binary_logloss: 0.463341\n",
      "[64]\ttraining's auc: 0.829957\ttraining's binary_logloss: 0.446319\tvalid_1's auc: 0.808685\tvalid_1's binary_logloss: 0.463014\n",
      "[65]\ttraining's auc: 0.82982\ttraining's binary_logloss: 0.445849\tvalid_1's auc: 0.808783\tvalid_1's binary_logloss: 0.462743\n",
      "[66]\ttraining's auc: 0.830009\ttraining's binary_logloss: 0.445372\tvalid_1's auc: 0.808778\tvalid_1's binary_logloss: 0.462241\n",
      "[67]\ttraining's auc: 0.831732\ttraining's binary_logloss: 0.444935\tvalid_1's auc: 0.809924\tvalid_1's binary_logloss: 0.461798\n",
      "[68]\ttraining's auc: 0.831931\ttraining's binary_logloss: 0.444496\tvalid_1's auc: 0.809579\tvalid_1's binary_logloss: 0.461578\n",
      "[69]\ttraining's auc: 0.832148\ttraining's binary_logloss: 0.444064\tvalid_1's auc: 0.810255\tvalid_1's binary_logloss: 0.461033\n",
      "[70]\ttraining's auc: 0.833397\ttraining's binary_logloss: 0.44364\tvalid_1's auc: 0.812414\tvalid_1's binary_logloss: 0.460462\n",
      "[71]\ttraining's auc: 0.833519\ttraining's binary_logloss: 0.443234\tvalid_1's auc: 0.812533\tvalid_1's binary_logloss: 0.460207\n",
      "[72]\ttraining's auc: 0.833744\ttraining's binary_logloss: 0.442843\tvalid_1's auc: 0.812929\tvalid_1's binary_logloss: 0.459794\n",
      "[73]\ttraining's auc: 0.833929\ttraining's binary_logloss: 0.442446\tvalid_1's auc: 0.812458\tvalid_1's binary_logloss: 0.459579\n",
      "[74]\ttraining's auc: 0.834356\ttraining's binary_logloss: 0.442071\tvalid_1's auc: 0.812887\tvalid_1's binary_logloss: 0.4592\n",
      "[75]\ttraining's auc: 0.834751\ttraining's binary_logloss: 0.441701\tvalid_1's auc: 0.813193\tvalid_1's binary_logloss: 0.458693\n",
      "[76]\ttraining's auc: 0.83475\ttraining's binary_logloss: 0.441339\tvalid_1's auc: 0.813182\tvalid_1's binary_logloss: 0.458492\n",
      "[77]\ttraining's auc: 0.836457\ttraining's binary_logloss: 0.440977\tvalid_1's auc: 0.813814\tvalid_1's binary_logloss: 0.458304\n",
      "[78]\ttraining's auc: 0.835415\ttraining's binary_logloss: 0.440623\tvalid_1's auc: 0.814207\tvalid_1's binary_logloss: 0.457846\n",
      "[79]\ttraining's auc: 0.836759\ttraining's binary_logloss: 0.440286\tvalid_1's auc: 0.813713\tvalid_1's binary_logloss: 0.457676\n",
      "[80]\ttraining's auc: 0.836454\ttraining's binary_logloss: 0.439954\tvalid_1's auc: 0.813829\tvalid_1's binary_logloss: 0.457476\n",
      "[81]\ttraining's auc: 0.835508\ttraining's binary_logloss: 0.439627\tvalid_1's auc: 0.813721\tvalid_1's binary_logloss: 0.4571\n",
      "[82]\ttraining's auc: 0.835948\ttraining's binary_logloss: 0.439312\tvalid_1's auc: 0.813959\tvalid_1's binary_logloss: 0.456782\n",
      "[83]\ttraining's auc: 0.836756\ttraining's binary_logloss: 0.438997\tvalid_1's auc: 0.81459\tvalid_1's binary_logloss: 0.456339\n",
      "[84]\ttraining's auc: 0.836977\ttraining's binary_logloss: 0.438692\tvalid_1's auc: 0.814469\tvalid_1's binary_logloss: 0.456192\n",
      "[85]\ttraining's auc: 0.837484\ttraining's binary_logloss: 0.438391\tvalid_1's auc: 0.815142\tvalid_1's binary_logloss: 0.455759\n",
      "[86]\ttraining's auc: 0.837199\ttraining's binary_logloss: 0.438097\tvalid_1's auc: 0.81568\tvalid_1's binary_logloss: 0.455444\n",
      "[87]\ttraining's auc: 0.837678\ttraining's binary_logloss: 0.437811\tvalid_1's auc: 0.815028\tvalid_1's binary_logloss: 0.455311\n",
      "[88]\ttraining's auc: 0.837765\ttraining's binary_logloss: 0.43753\tvalid_1's auc: 0.815183\tvalid_1's binary_logloss: 0.455156\n",
      "[89]\ttraining's auc: 0.837672\ttraining's binary_logloss: 0.437254\tvalid_1's auc: 0.815085\tvalid_1's binary_logloss: 0.454879\n",
      "[90]\ttraining's auc: 0.837417\ttraining's binary_logloss: 0.436987\tvalid_1's auc: 0.815584\tvalid_1's binary_logloss: 0.45452\n",
      "[91]\ttraining's auc: 0.837688\ttraining's binary_logloss: 0.436718\tvalid_1's auc: 0.815877\tvalid_1's binary_logloss: 0.454131\n",
      "[92]\ttraining's auc: 0.83811\ttraining's binary_logloss: 0.436458\tvalid_1's auc: 0.815671\tvalid_1's binary_logloss: 0.454016\n",
      "[93]\ttraining's auc: 0.837982\ttraining's binary_logloss: 0.436205\tvalid_1's auc: 0.815477\tvalid_1's binary_logloss: 0.453744\n",
      "[94]\ttraining's auc: 0.837985\ttraining's binary_logloss: 0.435959\tvalid_1's auc: 0.81571\tvalid_1's binary_logloss: 0.453662\n",
      "[95]\ttraining's auc: 0.838175\ttraining's binary_logloss: 0.435717\tvalid_1's auc: 0.815881\tvalid_1's binary_logloss: 0.453301\n",
      "[96]\ttraining's auc: 0.838035\ttraining's binary_logloss: 0.435479\tvalid_1's auc: 0.81594\tvalid_1's binary_logloss: 0.453064\n",
      "[97]\ttraining's auc: 0.83819\ttraining's binary_logloss: 0.435248\tvalid_1's auc: 0.816494\tvalid_1's binary_logloss: 0.452719\n",
      "[98]\ttraining's auc: 0.838222\ttraining's binary_logloss: 0.43502\tvalid_1's auc: 0.816505\tvalid_1's binary_logloss: 0.452622\n",
      "[99]\ttraining's auc: 0.838398\ttraining's binary_logloss: 0.434793\tvalid_1's auc: 0.81636\tvalid_1's binary_logloss: 0.452531\n",
      "[100]\ttraining's auc: 0.83831\ttraining's binary_logloss: 0.434568\tvalid_1's auc: 0.816362\tvalid_1's binary_logloss: 0.452221\n",
      "[101]\ttraining's auc: 0.838336\ttraining's binary_logloss: 0.434356\tvalid_1's auc: 0.816233\tvalid_1's binary_logloss: 0.452139\n",
      "[102]\ttraining's auc: 0.838332\ttraining's binary_logloss: 0.434146\tvalid_1's auc: 0.816479\tvalid_1's binary_logloss: 0.451847\n",
      "[103]\ttraining's auc: 0.838347\ttraining's binary_logloss: 0.433939\tvalid_1's auc: 0.816502\tvalid_1's binary_logloss: 0.45175\n",
      "[104]\ttraining's auc: 0.838423\ttraining's binary_logloss: 0.433739\tvalid_1's auc: 0.816383\tvalid_1's binary_logloss: 0.45155\n",
      "[105]\ttraining's auc: 0.838526\ttraining's binary_logloss: 0.433541\tvalid_1's auc: 0.81659\tvalid_1's binary_logloss: 0.451246\n",
      "[106]\ttraining's auc: 0.83848\ttraining's binary_logloss: 0.433347\tvalid_1's auc: 0.816901\tvalid_1's binary_logloss: 0.450945\n",
      "[107]\ttraining's auc: 0.838635\ttraining's binary_logloss: 0.433153\tvalid_1's auc: 0.816965\tvalid_1's binary_logloss: 0.450875\n",
      "[108]\ttraining's auc: 0.838554\ttraining's binary_logloss: 0.432965\tvalid_1's auc: 0.817079\tvalid_1's binary_logloss: 0.45067\n",
      "[109]\ttraining's auc: 0.838528\ttraining's binary_logloss: 0.432782\tvalid_1's auc: 0.816986\tvalid_1's binary_logloss: 0.450587\n",
      "[110]\ttraining's auc: 0.838609\ttraining's binary_logloss: 0.432602\tvalid_1's auc: 0.817064\tvalid_1's binary_logloss: 0.450525\n",
      "[111]\ttraining's auc: 0.838692\ttraining's binary_logloss: 0.432426\tvalid_1's auc: 0.817126\tvalid_1's binary_logloss: 0.450351\n",
      "[112]\ttraining's auc: 0.838675\ttraining's binary_logloss: 0.432254\tvalid_1's auc: 0.817497\tvalid_1's binary_logloss: 0.450068\n",
      "[113]\ttraining's auc: 0.838738\ttraining's binary_logloss: 0.432086\tvalid_1's auc: 0.817844\tvalid_1's binary_logloss: 0.4498\n",
      "[114]\ttraining's auc: 0.838822\ttraining's binary_logloss: 0.431921\tvalid_1's auc: 0.817997\tvalid_1's binary_logloss: 0.44975\n",
      "[115]\ttraining's auc: 0.83875\ttraining's binary_logloss: 0.431752\tvalid_1's auc: 0.817927\tvalid_1's binary_logloss: 0.449506\n",
      "[116]\ttraining's auc: 0.83879\ttraining's binary_logloss: 0.431594\tvalid_1's auc: 0.818033\tvalid_1's binary_logloss: 0.44925\n",
      "[117]\ttraining's auc: 0.838993\ttraining's binary_logloss: 0.431438\tvalid_1's auc: 0.818226\tvalid_1's binary_logloss: 0.449225\n",
      "[118]\ttraining's auc: 0.838939\ttraining's binary_logloss: 0.431282\tvalid_1's auc: 0.81814\tvalid_1's binary_logloss: 0.449036\n",
      "[119]\ttraining's auc: 0.838962\ttraining's binary_logloss: 0.431134\tvalid_1's auc: 0.818267\tvalid_1's binary_logloss: 0.448981\n",
      "[120]\ttraining's auc: 0.838922\ttraining's binary_logloss: 0.430986\tvalid_1's auc: 0.818324\tvalid_1's binary_logloss: 0.448837\n",
      "[121]\ttraining's auc: 0.838991\ttraining's binary_logloss: 0.43084\tvalid_1's auc: 0.818166\tvalid_1's binary_logloss: 0.448796\n",
      "[122]\ttraining's auc: 0.838985\ttraining's binary_logloss: 0.430697\tvalid_1's auc: 0.818291\tvalid_1's binary_logloss: 0.448551\n",
      "[123]\ttraining's auc: 0.83914\ttraining's binary_logloss: 0.430554\tvalid_1's auc: 0.818423\tvalid_1's binary_logloss: 0.448316\n",
      "[124]\ttraining's auc: 0.839462\ttraining's binary_logloss: 0.430416\tvalid_1's auc: 0.819063\tvalid_1's binary_logloss: 0.448292\n",
      "[125]\ttraining's auc: 0.839216\ttraining's binary_logloss: 0.430278\tvalid_1's auc: 0.818548\tvalid_1's binary_logloss: 0.448087\n",
      "[126]\ttraining's auc: 0.839459\ttraining's binary_logloss: 0.430145\tvalid_1's auc: 0.819247\tvalid_1's binary_logloss: 0.448075\n",
      "[127]\ttraining's auc: 0.839395\ttraining's binary_logloss: 0.430014\tvalid_1's auc: 0.81912\tvalid_1's binary_logloss: 0.447847\n",
      "[128]\ttraining's auc: 0.839478\ttraining's binary_logloss: 0.429887\tvalid_1's auc: 0.819193\tvalid_1's binary_logloss: 0.447631\n",
      "[129]\ttraining's auc: 0.839476\ttraining's binary_logloss: 0.429762\tvalid_1's auc: 0.819312\tvalid_1's binary_logloss: 0.447615\n",
      "[130]\ttraining's auc: 0.83957\ttraining's binary_logloss: 0.429636\tvalid_1's auc: 0.819327\tvalid_1's binary_logloss: 0.447493\n",
      "[131]\ttraining's auc: 0.839568\ttraining's binary_logloss: 0.429513\tvalid_1's auc: 0.819498\tvalid_1's binary_logloss: 0.447282\n",
      "[132]\ttraining's auc: 0.839537\ttraining's binary_logloss: 0.429392\tvalid_1's auc: 0.819498\tvalid_1's binary_logloss: 0.447098\n",
      "[133]\ttraining's auc: 0.839534\ttraining's binary_logloss: 0.429271\tvalid_1's auc: 0.819551\tvalid_1's binary_logloss: 0.447086\n",
      "[134]\ttraining's auc: 0.839541\ttraining's binary_logloss: 0.429156\tvalid_1's auc: 0.819341\tvalid_1's binary_logloss: 0.447067\n",
      "[135]\ttraining's auc: 0.839546\ttraining's binary_logloss: 0.429043\tvalid_1's auc: 0.819561\tvalid_1's binary_logloss: 0.447065\n",
      "[136]\ttraining's auc: 0.839606\ttraining's binary_logloss: 0.428929\tvalid_1's auc: 0.819548\tvalid_1's binary_logloss: 0.446924\n",
      "[137]\ttraining's auc: 0.839593\ttraining's binary_logloss: 0.428818\tvalid_1's auc: 0.819631\tvalid_1's binary_logloss: 0.446898\n",
      "[138]\ttraining's auc: 0.839591\ttraining's binary_logloss: 0.42871\tvalid_1's auc: 0.819758\tvalid_1's binary_logloss: 0.446868\n",
      "[139]\ttraining's auc: 0.839657\ttraining's binary_logloss: 0.428603\tvalid_1's auc: 0.819546\tvalid_1's binary_logloss: 0.446764\n",
      "[140]\ttraining's auc: 0.839723\ttraining's binary_logloss: 0.428498\tvalid_1's auc: 0.819691\tvalid_1's binary_logloss: 0.446759\n",
      "[141]\ttraining's auc: 0.839722\ttraining's binary_logloss: 0.428392\tvalid_1's auc: 0.819807\tvalid_1's binary_logloss: 0.446565\n",
      "[142]\ttraining's auc: 0.839669\ttraining's binary_logloss: 0.428289\tvalid_1's auc: 0.820123\tvalid_1's binary_logloss: 0.446381\n",
      "[143]\ttraining's auc: 0.839702\ttraining's binary_logloss: 0.428189\tvalid_1's auc: 0.82004\tvalid_1's binary_logloss: 0.446224\n",
      "[144]\ttraining's auc: 0.839747\ttraining's binary_logloss: 0.428089\tvalid_1's auc: 0.820035\tvalid_1's binary_logloss: 0.446229\n",
      "[145]\ttraining's auc: 0.839697\ttraining's binary_logloss: 0.427991\tvalid_1's auc: 0.820185\tvalid_1's binary_logloss: 0.446054\n",
      "[146]\ttraining's auc: 0.839792\ttraining's binary_logloss: 0.427897\tvalid_1's auc: 0.820335\tvalid_1's binary_logloss: 0.446037\n",
      "[147]\ttraining's auc: 0.83975\ttraining's binary_logloss: 0.4278\tvalid_1's auc: 0.820214\tvalid_1's binary_logloss: 0.445931\n",
      "[148]\ttraining's auc: 0.839827\ttraining's binary_logloss: 0.427708\tvalid_1's auc: 0.820299\tvalid_1's binary_logloss: 0.445933\n",
      "[149]\ttraining's auc: 0.839859\ttraining's binary_logloss: 0.427617\tvalid_1's auc: 0.820449\tvalid_1's binary_logloss: 0.445759\n",
      "[150]\ttraining's auc: 0.83981\ttraining's binary_logloss: 0.427527\tvalid_1's auc: 0.820449\tvalid_1's binary_logloss: 0.445739\n",
      "[151]\ttraining's auc: 0.839877\ttraining's binary_logloss: 0.427439\tvalid_1's auc: 0.820395\tvalid_1's binary_logloss: 0.445654\n",
      "[152]\ttraining's auc: 0.839891\ttraining's binary_logloss: 0.427351\tvalid_1's auc: 0.8204\tvalid_1's binary_logloss: 0.445491\n",
      "[153]\ttraining's auc: 0.839918\ttraining's binary_logloss: 0.427266\tvalid_1's auc: 0.820242\tvalid_1's binary_logloss: 0.445502\n",
      "[154]\ttraining's auc: 0.839887\ttraining's binary_logloss: 0.42718\tvalid_1's auc: 0.820429\tvalid_1's binary_logloss: 0.445364\n",
      "[155]\ttraining's auc: 0.83994\ttraining's binary_logloss: 0.427098\tvalid_1's auc: 0.820325\tvalid_1's binary_logloss: 0.445355\n",
      "[156]\ttraining's auc: 0.839965\ttraining's binary_logloss: 0.427017\tvalid_1's auc: 0.820343\tvalid_1's binary_logloss: 0.445342\n",
      "[157]\ttraining's auc: 0.839911\ttraining's binary_logloss: 0.426937\tvalid_1's auc: 0.820493\tvalid_1's binary_logloss: 0.44524\n",
      "[158]\ttraining's auc: 0.839928\ttraining's binary_logloss: 0.426857\tvalid_1's auc: 0.820498\tvalid_1's binary_logloss: 0.445248\n",
      "[159]\ttraining's auc: 0.84019\ttraining's binary_logloss: 0.426779\tvalid_1's auc: 0.820632\tvalid_1's binary_logloss: 0.445169\n",
      "[160]\ttraining's auc: 0.84008\ttraining's binary_logloss: 0.4267\tvalid_1's auc: 0.82074\tvalid_1's binary_logloss: 0.445013\n",
      "[161]\ttraining's auc: 0.840182\ttraining's binary_logloss: 0.426624\tvalid_1's auc: 0.820725\tvalid_1's binary_logloss: 0.445028\n",
      "[162]\ttraining's auc: 0.840153\ttraining's binary_logloss: 0.426546\tvalid_1's auc: 0.820686\tvalid_1's binary_logloss: 0.444924\n",
      "[163]\ttraining's auc: 0.840169\ttraining's binary_logloss: 0.426472\tvalid_1's auc: 0.820531\tvalid_1's binary_logloss: 0.444853\n",
      "[164]\ttraining's auc: 0.840335\ttraining's binary_logloss: 0.426398\tvalid_1's auc: 0.820546\tvalid_1's binary_logloss: 0.444777\n",
      "[165]\ttraining's auc: 0.840357\ttraining's binary_logloss: 0.426326\tvalid_1's auc: 0.82074\tvalid_1's binary_logloss: 0.444635\n",
      "[166]\ttraining's auc: 0.840397\ttraining's binary_logloss: 0.426254\tvalid_1's auc: 0.820554\tvalid_1's binary_logloss: 0.444537\n",
      "[167]\ttraining's auc: 0.840463\ttraining's binary_logloss: 0.42618\tvalid_1's auc: 0.820702\tvalid_1's binary_logloss: 0.444534\n",
      "[168]\ttraining's auc: 0.840485\ttraining's binary_logloss: 0.42611\tvalid_1's auc: 0.820942\tvalid_1's binary_logloss: 0.444397\n",
      "[169]\ttraining's auc: 0.840517\ttraining's binary_logloss: 0.42604\tvalid_1's auc: 0.820948\tvalid_1's binary_logloss: 0.444409\n",
      "[170]\ttraining's auc: 0.840562\ttraining's binary_logloss: 0.42597\tvalid_1's auc: 0.820919\tvalid_1's binary_logloss: 0.444315\n",
      "[171]\ttraining's auc: 0.840578\ttraining's binary_logloss: 0.425901\tvalid_1's auc: 0.820924\tvalid_1's binary_logloss: 0.444328\n",
      "[172]\ttraining's auc: 0.84049\ttraining's binary_logloss: 0.425834\tvalid_1's auc: 0.821056\tvalid_1's binary_logloss: 0.444189\n",
      "[173]\ttraining's auc: 0.840698\ttraining's binary_logloss: 0.425766\tvalid_1's auc: 0.820992\tvalid_1's binary_logloss: 0.44412\n",
      "[174]\ttraining's auc: 0.8406\ttraining's binary_logloss: 0.425701\tvalid_1's auc: 0.821178\tvalid_1's binary_logloss: 0.444031\n",
      "[175]\ttraining's auc: 0.840708\ttraining's binary_logloss: 0.425634\tvalid_1's auc: 0.820999\tvalid_1's binary_logloss: 0.44405\n",
      "[176]\ttraining's auc: 0.840733\ttraining's binary_logloss: 0.425571\tvalid_1's auc: 0.820891\tvalid_1's binary_logloss: 0.443989\n",
      "[177]\ttraining's auc: 0.840833\ttraining's binary_logloss: 0.425508\tvalid_1's auc: 0.820862\tvalid_1's binary_logloss: 0.444004\n",
      "[178]\ttraining's auc: 0.840844\ttraining's binary_logloss: 0.425446\tvalid_1's auc: 0.821004\tvalid_1's binary_logloss: 0.443918\n",
      "[179]\ttraining's auc: 0.840925\ttraining's binary_logloss: 0.425384\tvalid_1's auc: 0.820942\tvalid_1's binary_logloss: 0.443853\n",
      "[180]\ttraining's auc: 0.84093\ttraining's binary_logloss: 0.425323\tvalid_1's auc: 0.821173\tvalid_1's binary_logloss: 0.443725\n",
      "[181]\ttraining's auc: 0.840945\ttraining's binary_logloss: 0.425261\tvalid_1's auc: 0.821149\tvalid_1's binary_logloss: 0.443728\n",
      "[182]\ttraining's auc: 0.840974\ttraining's binary_logloss: 0.4252\tvalid_1's auc: 0.821105\tvalid_1's binary_logloss: 0.443603\n",
      "[183]\ttraining's auc: 0.840979\ttraining's binary_logloss: 0.425141\tvalid_1's auc: 0.821263\tvalid_1's binary_logloss: 0.443521\n",
      "[184]\ttraining's auc: 0.840998\ttraining's binary_logloss: 0.425081\tvalid_1's auc: 0.821136\tvalid_1's binary_logloss: 0.443542\n",
      "[185]\ttraining's auc: 0.840955\ttraining's binary_logloss: 0.425024\tvalid_1's auc: 0.821212\tvalid_1's binary_logloss: 0.443553\n",
      "[186]\ttraining's auc: 0.841058\ttraining's binary_logloss: 0.424967\tvalid_1's auc: 0.821186\tvalid_1's binary_logloss: 0.443493\n",
      "[187]\ttraining's auc: 0.841066\ttraining's binary_logloss: 0.424911\tvalid_1's auc: 0.821258\tvalid_1's binary_logloss: 0.443415\n",
      "[188]\ttraining's auc: 0.841114\ttraining's binary_logloss: 0.424854\tvalid_1's auc: 0.821248\tvalid_1's binary_logloss: 0.443432\n",
      "[189]\ttraining's auc: 0.841084\ttraining's binary_logloss: 0.424798\tvalid_1's auc: 0.821341\tvalid_1's binary_logloss: 0.443318\n",
      "[190]\ttraining's auc: 0.841134\ttraining's binary_logloss: 0.424744\tvalid_1's auc: 0.821403\tvalid_1's binary_logloss: 0.443325\n",
      "[191]\ttraining's auc: 0.841152\ttraining's binary_logloss: 0.42469\tvalid_1's auc: 0.821457\tvalid_1's binary_logloss: 0.443249\n",
      "[192]\ttraining's auc: 0.841155\ttraining's binary_logloss: 0.424636\tvalid_1's auc: 0.821393\tvalid_1's binary_logloss: 0.443272\n",
      "[193]\ttraining's auc: 0.841192\ttraining's binary_logloss: 0.424583\tvalid_1's auc: 0.821354\tvalid_1's binary_logloss: 0.443222\n",
      "[194]\ttraining's auc: 0.841249\ttraining's binary_logloss: 0.424531\tvalid_1's auc: 0.821318\tvalid_1's binary_logloss: 0.443167\n",
      "[195]\ttraining's auc: 0.841216\ttraining's binary_logloss: 0.424479\tvalid_1's auc: 0.821375\tvalid_1's binary_logloss: 0.443052\n",
      "[196]\ttraining's auc: 0.841255\ttraining's binary_logloss: 0.424429\tvalid_1's auc: 0.821463\tvalid_1's binary_logloss: 0.443076\n",
      "[197]\ttraining's auc: 0.8413\ttraining's binary_logloss: 0.424377\tvalid_1's auc: 0.821388\tvalid_1's binary_logloss: 0.443003\n",
      "[198]\ttraining's auc: 0.841257\ttraining's binary_logloss: 0.424327\tvalid_1's auc: 0.821468\tvalid_1's binary_logloss: 0.442894\n",
      "[199]\ttraining's auc: 0.841268\ttraining's binary_logloss: 0.424278\tvalid_1's auc: 0.821483\tvalid_1's binary_logloss: 0.442896\n",
      "[200]\ttraining's auc: 0.841283\ttraining's binary_logloss: 0.42423\tvalid_1's auc: 0.821413\tvalid_1's binary_logloss: 0.442906\n",
      "[201]\ttraining's auc: 0.841275\ttraining's binary_logloss: 0.424181\tvalid_1's auc: 0.82152\tvalid_1's binary_logloss: 0.442836\n",
      "[202]\ttraining's auc: 0.841292\ttraining's binary_logloss: 0.424133\tvalid_1's auc: 0.821455\tvalid_1's binary_logloss: 0.442856\n",
      "[203]\ttraining's auc: 0.841334\ttraining's binary_logloss: 0.424086\tvalid_1's auc: 0.821589\tvalid_1's binary_logloss: 0.44275\n",
      "[204]\ttraining's auc: 0.841329\ttraining's binary_logloss: 0.424038\tvalid_1's auc: 0.821631\tvalid_1's binary_logloss: 0.442699\n"
     ]
    },
    {
     "name": "stdout",
     "output_type": "stream",
     "text": [
      "[205]\ttraining's auc: 0.841365\ttraining's binary_logloss: 0.423992\tvalid_1's auc: 0.82168\tvalid_1's binary_logloss: 0.442633\n",
      "[206]\ttraining's auc: 0.841353\ttraining's binary_logloss: 0.423946\tvalid_1's auc: 0.821716\tvalid_1's binary_logloss: 0.442644\n",
      "[207]\ttraining's auc: 0.841438\ttraining's binary_logloss: 0.423902\tvalid_1's auc: 0.821714\tvalid_1's binary_logloss: 0.442602\n",
      "[208]\ttraining's auc: 0.841476\ttraining's binary_logloss: 0.423858\tvalid_1's auc: 0.821745\tvalid_1's binary_logloss: 0.442555\n",
      "[209]\ttraining's auc: 0.841511\ttraining's binary_logloss: 0.423814\tvalid_1's auc: 0.821763\tvalid_1's binary_logloss: 0.442491\n",
      "[210]\ttraining's auc: 0.841469\ttraining's binary_logloss: 0.42377\tvalid_1's auc: 0.821734\tvalid_1's binary_logloss: 0.442516\n",
      "[211]\ttraining's auc: 0.841508\ttraining's binary_logloss: 0.423727\tvalid_1's auc: 0.821812\tvalid_1's binary_logloss: 0.442422\n",
      "[212]\ttraining's auc: 0.841476\ttraining's binary_logloss: 0.423685\tvalid_1's auc: 0.821872\tvalid_1's binary_logloss: 0.442444\n",
      "[213]\ttraining's auc: 0.841557\ttraining's binary_logloss: 0.423643\tvalid_1's auc: 0.821828\tvalid_1's binary_logloss: 0.442382\n",
      "[214]\ttraining's auc: 0.841512\ttraining's binary_logloss: 0.423601\tvalid_1's auc: 0.821926\tvalid_1's binary_logloss: 0.442286\n",
      "[215]\ttraining's auc: 0.841498\ttraining's binary_logloss: 0.42356\tvalid_1's auc: 0.821928\tvalid_1's binary_logloss: 0.442299\n",
      "[216]\ttraining's auc: 0.84152\ttraining's binary_logloss: 0.423518\tvalid_1's auc: 0.82204\tvalid_1's binary_logloss: 0.442202\n",
      "[217]\ttraining's auc: 0.841544\ttraining's binary_logloss: 0.423478\tvalid_1's auc: 0.821975\tvalid_1's binary_logloss: 0.442157\n",
      "[218]\ttraining's auc: 0.841652\ttraining's binary_logloss: 0.423438\tvalid_1's auc: 0.822066\tvalid_1's binary_logloss: 0.442098\n",
      "[219]\ttraining's auc: 0.841628\ttraining's binary_logloss: 0.423398\tvalid_1's auc: 0.822048\tvalid_1's binary_logloss: 0.442125\n",
      "[220]\ttraining's auc: 0.841651\ttraining's binary_logloss: 0.42336\tvalid_1's auc: 0.822128\tvalid_1's binary_logloss: 0.442068\n",
      "[221]\ttraining's auc: 0.841614\ttraining's binary_logloss: 0.423321\tvalid_1's auc: 0.822048\tvalid_1's binary_logloss: 0.442095\n",
      "[222]\ttraining's auc: 0.841686\ttraining's binary_logloss: 0.423284\tvalid_1's auc: 0.822182\tvalid_1's binary_logloss: 0.442005\n",
      "[223]\ttraining's auc: 0.841695\ttraining's binary_logloss: 0.423246\tvalid_1's auc: 0.822042\tvalid_1's binary_logloss: 0.441962\n",
      "[224]\ttraining's auc: 0.841643\ttraining's binary_logloss: 0.42321\tvalid_1's auc: 0.821991\tvalid_1's binary_logloss: 0.441985\n",
      "[225]\ttraining's auc: 0.841705\ttraining's binary_logloss: 0.423172\tvalid_1's auc: 0.822172\tvalid_1's binary_logloss: 0.44193\n",
      "[226]\ttraining's auc: 0.84168\ttraining's binary_logloss: 0.423136\tvalid_1's auc: 0.822048\tvalid_1's binary_logloss: 0.441946\n",
      "[227]\ttraining's auc: 0.841696\ttraining's binary_logloss: 0.4231\tvalid_1's auc: 0.822037\tvalid_1's binary_logloss: 0.441952\n",
      "[228]\ttraining's auc: 0.841762\ttraining's binary_logloss: 0.423064\tvalid_1's auc: 0.821991\tvalid_1's binary_logloss: 0.441919\n",
      "[229]\ttraining's auc: 0.84177\ttraining's binary_logloss: 0.42303\tvalid_1's auc: 0.82205\tvalid_1's binary_logloss: 0.441834\n",
      "[230]\ttraining's auc: 0.841764\ttraining's binary_logloss: 0.422995\tvalid_1's auc: 0.822226\tvalid_1's binary_logloss: 0.441782\n",
      "[231]\ttraining's auc: 0.841881\ttraining's binary_logloss: 0.42296\tvalid_1's auc: 0.822211\tvalid_1's binary_logloss: 0.441743\n",
      "[232]\ttraining's auc: 0.841856\ttraining's binary_logloss: 0.422927\tvalid_1's auc: 0.822185\tvalid_1's binary_logloss: 0.441762\n",
      "[233]\ttraining's auc: 0.841864\ttraining's binary_logloss: 0.422893\tvalid_1's auc: 0.822094\tvalid_1's binary_logloss: 0.441785\n",
      "[234]\ttraining's auc: 0.841913\ttraining's binary_logloss: 0.42286\tvalid_1's auc: 0.82218\tvalid_1's binary_logloss: 0.441735\n",
      "[235]\ttraining's auc: 0.841914\ttraining's binary_logloss: 0.422827\tvalid_1's auc: 0.822105\tvalid_1's binary_logloss: 0.441752\n",
      "[236]\ttraining's auc: 0.841883\ttraining's binary_logloss: 0.422794\tvalid_1's auc: 0.821991\tvalid_1's binary_logloss: 0.441779\n",
      "[237]\ttraining's auc: 0.841924\ttraining's binary_logloss: 0.422762\tvalid_1's auc: 0.822079\tvalid_1's binary_logloss: 0.441697\n",
      "[238]\ttraining's auc: 0.841956\ttraining's binary_logloss: 0.422731\tvalid_1's auc: 0.822198\tvalid_1's binary_logloss: 0.441661\n",
      "[239]\ttraining's auc: 0.841947\ttraining's binary_logloss: 0.422699\tvalid_1's auc: 0.822205\tvalid_1's binary_logloss: 0.441613\n",
      "[240]\ttraining's auc: 0.841963\ttraining's binary_logloss: 0.422668\tvalid_1's auc: 0.822141\tvalid_1's binary_logloss: 0.44164\n",
      "Early stopping, best iteration is:\n",
      "[230]\ttraining's auc: 0.841764\ttraining's binary_logloss: 0.422995\tvalid_1's auc: 0.822226\tvalid_1's binary_logloss: 0.441782\n"
     ]
    }
   ],
   "source": [
    "evals_result = {}  # to record eval results for plotting\n",
    "#Fit lightGBM Modell\n",
    "clf = lgb.train(params,\n",
    "                d_train,\n",
    "                valid_sets=[d_train, d_test],\n",
    "                evals_result=evals_result,\n",
    "                early_stopping_rounds=10\n",
    "               )"
   ]
  },
  {
   "cell_type": "code",
   "execution_count": 87,
   "metadata": {},
   "outputs": [],
   "source": [
    "def render_metric(metric_name):\n",
    "    ax = lgb.plot_metric(evals_result, metric=metric_name, figsize=(10, 5))\n",
    "    plt.show()"
   ]
  },
  {
   "cell_type": "code",
   "execution_count": 88,
   "metadata": {},
   "outputs": [
    {
     "data": {
      "image/png": "[encoded data removed]",
      "text/plain": [
       "<Figure size 720x360 with 1 Axes>"
      ]
     },
     "metadata": {
      "needs_background": "light"
     },
     "output_type": "display_data"
    }
   ],
   "source": [
    "render_metric(params['metric'][0])"
   ]
  },
  {
   "cell_type": "code",
   "execution_count": 89,
   "metadata": {},
   "outputs": [
    {
     "data": {
      "text/plain": [
       "array([0.02050631, 0.09937181, 0.68283885, ..., 0.09394834, 0.08074624,\n",
       "       0.02050631])"
      ]
     },
     "execution_count": 89,
     "metadata": {},
     "output_type": "execute_result"
    }
   ],
   "source": [
    "#Predict Test data\n",
    "#Predictions are decimal values\n",
    "y_pred=clf.predict(X_test)\n",
    "y_pred\n"
   ]
  },
  {
   "cell_type": "code",
   "execution_count": 90,
   "metadata": {},
   "outputs": [
    {
     "data": {
      "text/plain": [
       "array([0., 0., 1., ..., 0., 0., 0.])"
      ]
     },
     "execution_count": 90,
     "metadata": {},
     "output_type": "execute_result"
    }
   ],
   "source": [
    "#Transform predictions to categorical churn. If prediction is > 0.5 then the customer churns\n",
    "for i in range(len(y_pred)):\n",
    "    if y_pred[i]>=.5:      \n",
    "       y_pred[i]=1\n",
    "    else:  \n",
    "       y_pred[i]=0\n",
    "y_pred"
   ]
  },
  {
   "cell_type": "code",
   "execution_count": 91,
   "metadata": {},
   "outputs": [],
   "source": [
    "#Evaluate the model\n",
    "#Confusion matrix\n",
    "from sklearn.metrics import confusion_matrix\n",
    "cm = confusion_matrix(y_test, y_pred)\n",
    "#Accuracy\n",
    "from sklearn.metrics import accuracy_score\n",
    "accuracy=accuracy_score(y_pred,y_test)\n",
    "\n"
   ]
  },
  {
   "cell_type": "code",
   "execution_count": 92,
   "metadata": {},
   "outputs": [
    {
     "name": "stdout",
     "output_type": "stream",
     "text": [
      "Accuracy:  0.7960199004975125\n",
      "Confusion Matrix: \n",
      "[[932 101]\n",
      " [186 188]]\n"
     ]
    }
   ],
   "source": [
    "print('Accuracy: ', accuracy)\n",
    "print('Confusion Matrix: ')\n",
    "print(cm)"
   ]
  },
  {
   "cell_type": "code",
   "execution_count": 93,
   "metadata": {},
   "outputs": [
    {
     "name": "stdout",
     "output_type": "stream",
     "text": [
      "              precision    recall  f1-score   support\n",
      "\n",
      "           0       0.83      0.90      0.87      1033\n",
      "           1       0.65      0.50      0.57       374\n",
      "\n",
      "    accuracy                           0.80      1407\n",
      "   macro avg       0.74      0.70      0.72      1407\n",
      "weighted avg       0.78      0.80      0.79      1407\n",
      "\n"
     ]
    }
   ],
   "source": [
    "print(classification_report(y_test, y_pred))"
   ]
  },
  {
   "cell_type": "code",
   "execution_count": 94,
   "metadata": {},
   "outputs": [
    {
     "data": {
      "image/png": "[encoded data removed]",
      "text/plain": [
       "<Figure size 432x288 with 1 Axes>"
      ]
     },
     "metadata": {
      "needs_background": "light"
     },
     "output_type": "display_data"
    }
   ],
   "source": [
    "#Plot feature importances\n",
    "feature_importance = lgb.plot_importance(clf, importance_type='split', max_num_features=20)"
   ]
  },
  {
   "cell_type": "markdown",
   "metadata": {},
   "source": [
    "# Vergleich lightGBM und XGBoost"
   ]
  },
  {
   "cell_type": "markdown",
   "metadata": {},
   "source": [
    "Ein großer Vorteil von lightGBM ist die Geschwindigkeit. Im folgenden Abschnitt soll exemplarisch gezeigt werden, wie schnell lightGBM im Vergleich zu XGBoost ist. Hierzu wird die Zeit beim Training des Modells gemessen.\n",
    "\n",
    "Hierzu wird für XGBoost und lightGBM eine einfache Konfiguration eingestellt und die Trainingszeit wird verglichen."
   ]
  },
  {
   "cell_type": "markdown",
   "metadata": {},
   "source": [
    "### XGBoost Basic Setup"
   ]
  },
  {
   "cell_type": "code",
   "execution_count": 111,
   "metadata": {},
   "outputs": [],
   "source": [
    "dtrain=xgb.DMatrix(X_train,label=y_train)\n",
    "dtest=xgb.DMatrix(X_test)"
   ]
  },
  {
   "cell_type": "code",
   "execution_count": 112,
   "metadata": {},
   "outputs": [],
   "source": [
    "parameters={'max_depth':7, 'eta':1, 'silent':1,'objective':'binary:logistic','eval_metric':'auc','learning_rate':.05}"
   ]
  },
  {
   "cell_type": "code",
   "execution_count": 113,
   "metadata": {},
   "outputs": [
    {
     "name": "stdout",
     "output_type": "stream",
     "text": [
      "[13:12:21] WARNING: /Users/travis/build/dmlc/xgboost/src/learner.cc:516: \n",
      "Parameters: { silent } might not be used.\n",
      "\n",
      "  This may not be accurate due to some parameters are only used in language bindings but\n",
      "  passed down to XGBoost core.  Or some parameters are not used but slip through this\n",
      "  verification. Please open an issue if you find above cases.\n",
      "\n",
      "\n"
     ]
    }
   ],
   "source": [
    "num_round=100\n",
    "from datetime import datetime \n",
    "start = datetime.now() \n",
    "xg=xgb.train(parameters,dtrain,num_round) \n",
    "stop = datetime.now()"
   ]
  },
  {
   "cell_type": "code",
   "execution_count": 114,
   "metadata": {},
   "outputs": [
    {
     "data": {
      "text/plain": [
       "datetime.timedelta(microseconds=365991)"
      ]
     },
     "execution_count": 114,
     "metadata": {},
     "output_type": "execute_result"
    }
   ],
   "source": [
    "execution_time_xgboost = stop-start\n",
    "execution_time_xgboost"
   ]
  },
  {
   "cell_type": "code",
   "execution_count": 115,
   "metadata": {},
   "outputs": [
    {
     "data": {
      "text/plain": [
       "array([0.014058  , 0.07546755, 0.7917351 , ..., 0.06433102, 0.17254435,\n",
       "       0.00623151], dtype=float32)"
      ]
     },
     "execution_count": 115,
     "metadata": {},
     "output_type": "execute_result"
    }
   ],
   "source": [
    "ypred=xg.predict(dtest) \n",
    "ypred"
   ]
  },
  {
   "cell_type": "code",
   "execution_count": 116,
   "metadata": {},
   "outputs": [],
   "source": [
    "for i in range(len(ypred)): \n",
    "    if ypred[i]>=.5:       # setting threshold to .5 \n",
    "       ypred[i]=1 \n",
    "    else: \n",
    "       ypred[i]=0  "
   ]
  },
  {
   "cell_type": "code",
   "execution_count": 117,
   "metadata": {},
   "outputs": [],
   "source": [
    "accuracy_xgb = accuracy_score(y_test,ypred) \n"
   ]
  },
  {
   "cell_type": "markdown",
   "metadata": {},
   "source": [
    "### lightGBM Basic Setup"
   ]
  },
  {
   "cell_type": "code",
   "execution_count": 118,
   "metadata": {},
   "outputs": [],
   "source": [
    "d_train = lgb.Dataset(X_train, label=y_train)\n",
    "d_test = lgb.Dataset(X_test, label=y_test)"
   ]
  },
  {
   "cell_type": "code",
   "execution_count": 119,
   "metadata": {},
   "outputs": [],
   "source": [
    "param = {'num_leaves':100, 'objective':'binary','max_depth':7,'learning_rate':.05,'max_bin':200}\n",
    "param['metric'] = ['auc', 'binary_logloss']"
   ]
  },
  {
   "cell_type": "code",
   "execution_count": 120,
   "metadata": {},
   "outputs": [],
   "source": [
    "num_round=100\n",
    "start=datetime.now()\n",
    "lgbm=lgb.train(param,d_train,num_round)\n",
    "stop=datetime.now()"
   ]
  },
  {
   "cell_type": "code",
   "execution_count": 121,
   "metadata": {},
   "outputs": [
    {
     "data": {
      "text/plain": [
       "datetime.timedelta(microseconds=160973)"
      ]
     },
     "execution_count": 121,
     "metadata": {},
     "output_type": "execute_result"
    }
   ],
   "source": [
    "execution_time_lgbm = stop-start\n",
    "execution_time_lgbm"
   ]
  },
  {
   "cell_type": "code",
   "execution_count": 122,
   "metadata": {},
   "outputs": [
    {
     "data": {
      "text/plain": [
       "array([0.00859721, 0.07120342, 0.72827709, 0.09351952, 0.39224755])"
      ]
     },
     "execution_count": 122,
     "metadata": {},
     "output_type": "execute_result"
    }
   ],
   "source": [
    "ypred2=lgbm.predict(X_test)\n",
    "ypred2[0:5]  # showing first 5 predictions"
   ]
  },
  {
   "cell_type": "code",
   "execution_count": 123,
   "metadata": {},
   "outputs": [],
   "source": [
    "for i in range(len(ypred2)):\n",
    "    if ypred2[i]>=.5:       # setting threshold to .5\n",
    "       ypred2[i]=1\n",
    "    else:  \n",
    "       ypred2[i]=0"
   ]
  },
  {
   "cell_type": "code",
   "execution_count": 124,
   "metadata": {},
   "outputs": [],
   "source": [
    "accuracy_lgbm = accuracy_score(ypred2,y_test)"
   ]
  },
  {
   "cell_type": "markdown",
   "metadata": {},
   "source": [
    "### Zeitvergleich"
   ]
  },
  {
   "cell_type": "code",
   "execution_count": 125,
   "metadata": {},
   "outputs": [
    {
     "name": "stdout",
     "output_type": "stream",
     "text": [
      "XGBoost Acc:  0.7839374555792467  Verbauchte Zeit:  0:00:00.365991\n",
      "lightGBM Acc:  0.7839374555792467  Verbrauchte Zeit:  0:00:00.160973\n",
      "Zeitunterschied:  0:00:00.205018\n"
     ]
    }
   ],
   "source": [
    "time_dif = execution_time_xgboost-execution_time_lgbm\n",
    "\n",
    "print(\"XGBoost Acc: \",accuracy_xgb, \" Verbauchte Zeit: \", execution_time_xgboost)\n",
    "print(\"lightGBM Acc: \",accuracy_lgbm, \" Verbrauchte Zeit: \", execution_time_lgbm)\n",
    "print(\"Zeitunterschied: \",time_dif)\n",
    "\n"
   ]
  },
  {
   "cell_type": "markdown",
   "metadata": {},
   "source": [
    "Auswertung: Wie zusehen ist, verhält sich lightGBM deutlich schneller im Vergleich zu XGBoost bei ca. gleicher Performance. In diesem Fall ist LightGBM ca. 2 bis 3 Mal schneller beim Training."
   ]
  },
  {
   "cell_type": "markdown",
   "metadata": {},
   "source": [
    "### Vergleich mit deutlich höherer Anzahl an Iterationen\n",
    "num_rounds = 1000"
   ]
  },
  {
   "cell_type": "code",
   "execution_count": 128,
   "metadata": {},
   "outputs": [
    {
     "name": "stdout",
     "output_type": "stream",
     "text": [
      "[13:13:32] WARNING: /Users/travis/build/dmlc/xgboost/src/learner.cc:516: \n",
      "Parameters: { silent } might not be used.\n",
      "\n",
      "  This may not be accurate due to some parameters are only used in language bindings but\n",
      "  passed down to XGBoost core.  Or some parameters are not used but slip through this\n",
      "  verification. Please open an issue if you find above cases.\n",
      "\n",
      "\n",
      "XGBoost Verbauchte Zeit:  0:00:13.157856\n",
      "LightGBM Verbrauchte Zeit:  0:00:05.027018\n",
      "Zeitunterschied:  0:00:08.130838\n"
     ]
    }
   ],
   "source": [
    "#Setup XGBoost with num_round = 100\n",
    "num_round=100\n",
    "from datetime import datetime \n",
    "start = datetime.now() \n",
    "xg=xgb.train(parameters,dtrain,num_round) \n",
    "stop = datetime.now()\n",
    "\n",
    "execution_time_xgboost = stop-start\n",
    "execution_time_xgboost\n",
    "\n",
    "#Setup LightGBM with num_round = 100\n",
    "num_round=100\n",
    "start=datetime.now()\n",
    "lgbm=lgb.train(param,d_train,num_round)\n",
    "stop=datetime.now()\n",
    "\n",
    "\n",
    "execution_time_lgbm = stop-start\n",
    "execution_time_lgbm\n",
    "\n",
    "#Compare results\n",
    "time_dif = execution_time_xgboost-execution_time_lgbm\n",
    "\n",
    "print(\"XGBoost Verbauchte Zeit: \", execution_time_xgboost)\n",
    "print(\"LightGBM Verbrauchte Zeit: \", execution_time_lgbm)\n",
    "print(\"Zeitunterschied: \",time_dif)"
   ]
  },
  {
   "cell_type": "markdown",
   "metadata": {},
   "source": [
    "Wie zu sehen ist, verhält sich LightGBM auch bei einer deutlich größeren Anzahl an Iterationen deutlich schneller als XGBoost."
   ]
  },
  {
   "cell_type": "markdown",
   "metadata": {},
   "source": [
    "### Vergleich mit mehr Daten"
   ]
  },
  {
   "cell_type": "markdown",
   "metadata": {},
   "source": [
    "LightGBM hat nicht nur Vorteile bei einer höheren Anzahl an num_round. Die bereits beobachteten Unterschiede lassen sich auch bei steigenden Datenmengen beobachten."
   ]
  },
  {
   "cell_type": "code",
   "execution_count": 144,
   "metadata": {},
   "outputs": [],
   "source": [
    "#Duplicate and concat exisiting df to get more data\n",
    "#Use multiple times to grow df\n",
    "df = pd.concat([df,df]).reset_index(drop=True)"
   ]
  },
  {
   "cell_type": "code",
   "execution_count": 145,
   "metadata": {},
   "outputs": [
    {
     "data": {
      "text/plain": [
       "(225024, 20)"
      ]
     },
     "execution_count": 145,
     "metadata": {},
     "output_type": "execute_result"
    }
   ],
   "source": [
    "#Show size of new dataset \n",
    "df.shape"
   ]
  },
  {
   "cell_type": "code",
   "execution_count": 150,
   "metadata": {},
   "outputs": [],
   "source": [
    "#Generate temp df for testing\n",
    "Y = df[\"Churn\"].values\n",
    "X = df.drop(labels = [\"Churn\"],axis = 1)\n",
    "from sklearn.model_selection import train_test_split\n",
    "X_train, X_test, y_train, y_test = train_test_split(X, Y, test_size=0.2, random_state=42)"
   ]
  },
  {
   "cell_type": "code",
   "execution_count": 151,
   "metadata": {},
   "outputs": [
    {
     "name": "stdout",
     "output_type": "stream",
     "text": [
      "[13:21:24] WARNING: /Users/travis/build/dmlc/xgboost/src/learner.cc:516: \n",
      "Parameters: { silent } might not be used.\n",
      "\n",
      "  This may not be accurate due to some parameters are only used in language bindings but\n",
      "  passed down to XGBoost core.  Or some parameters are not used but slip through this\n",
      "  verification. Please open an issue if you find above cases.\n",
      "\n",
      "\n",
      "XGBoost Verbauchte Zeit:  0:00:06.639886\n",
      "LightGBM Verbrauchte Zeit:  0:00:01.191305\n",
      "Zeitunterschied:  0:00:05.448581\n"
     ]
    }
   ],
   "source": [
    "#Setup XGBoost with num_round = 100\n",
    "\n",
    "dtrain=xgb.DMatrix(X_train,label=y_train)\n",
    "dtest=xgb.DMatrix(X_test)\n",
    "\n",
    "num_round=100\n",
    "from datetime import datetime \n",
    "start = datetime.now() \n",
    "xg=xgb.train(parameters,dtrain,num_round) \n",
    "stop = datetime.now()\n",
    "\n",
    "execution_time_xgboost = stop-start\n",
    "execution_time_xgboost\n",
    "\n",
    "#Setup LightGBM with num_round = 100\n",
    "\n",
    "d_train = lgb.Dataset(X_train, label=y_train)\n",
    "d_test = lgb.Dataset(X_test, label=y_test)\n",
    "\n",
    "num_round=100\n",
    "start=datetime.now()\n",
    "lgbm=lgb.train(param,d_train,num_round)\n",
    "stop=datetime.now()\n",
    "\n",
    "\n",
    "execution_time_lgbm = stop-start\n",
    "execution_time_lgbm\n",
    "\n",
    "#Compare results\n",
    "time_dif = execution_time_xgboost-execution_time_lgbm\n",
    "\n",
    "print(\"XGBoost Verbauchte Zeit: \", execution_time_xgboost)\n",
    "print(\"LightGBM Verbrauchte Zeit: \", execution_time_lgbm)\n",
    "print(\"Zeitunterschied: \",time_dif)"
   ]
  },
  {
   "cell_type": "markdown",
   "metadata": {},
   "source": [
    "Bei steigender Datenmenge lässt sich sogar ein eine noch höhere Effizienz von lightGBM feststellen.\n",
    "Bei einer wesentlich größeren Datenmenge ist lightGBM sogar 5 Mal schneller im Vergleich zu XGBoost.\n",
    "Aus diesem Grund lohnt sich der Einsatz von LightGBM vor allem bei großen Datenmengen."
   ]
  },
  {
   "cell_type": "code",
   "execution_count": null,
   "metadata": {},
   "outputs": [],
   "source": []
  },
  {
   "cell_type": "code",
   "execution_count": null,
   "metadata": {},
   "outputs": [],
   "source": []
  }
 ],
 "metadata": {
  "kernelspec": {
   "display_name": "Python 3",
   "language": "python",
   "name": "python3"
  },
  "language_info": {
   "codemirror_mode": {
    "name": "ipython",
    "version": 3
   },
   "file_extension": ".py",
   "mimetype": "text/x-python",
   "name": "python",
   "nbconvert_exporter": "python",
   "pygments_lexer": "ipython3",
   "version": "3.8.3"
  }
 },
 "nbformat": 4,
 "nbformat_minor": 2
}
